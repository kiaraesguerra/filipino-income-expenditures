{
 "cells": [
  {
   "cell_type": "code",
   "execution_count": 2,
   "metadata": {},
   "outputs": [],
   "source": [
    "import pandas as pd\n",
    "import matplotlib.pyplot as plt\n",
    "import re\n",
    "import numpy as np"
   ]
  },
  {
   "cell_type": "code",
   "execution_count": 3,
   "metadata": {},
   "outputs": [],
   "source": [
    "data = pd.read_csv('Family Income and Expenditure.csv')"
   ]
  },
  {
   "cell_type": "code",
   "execution_count": 12,
   "metadata": {},
   "outputs": [],
   "source": [
    "def remove_income_outlier(data):\n",
    "    z_scores = np.abs((data['Total Household Income'] - data['Total Household Income'].mean()) / data['Total Household Income'].std())\n",
    "    threshold = 3\n",
    "    outlier_indices = np.where(z_scores > threshold)[0]\n",
    "    return data.drop(outlier_indices)"
   ]
  },
  {
   "cell_type": "code",
   "execution_count": 5,
   "metadata": {},
   "outputs": [],
   "source": [
    "from data_utils import _expenditures_data, _income_data, _householdhead_data, _appliances_data, _property_information, _family_composition\n",
    "\n",
    "expenditures_data = _expenditures_data(cleaned_data)\n",
    "income_data = _income_data(cleaned_data)\n",
    "householdhead_data = _householdhead_data(cleaned_data)\n",
    "appliances_data = _appliances_data(cleaned_data)\n",
    "property_data = _property_information(cleaned_data)\n",
    "family_composition_data = _family_composition(cleaned_data)"
   ]
  },
  {
   "cell_type": "code",
   "execution_count": 6,
   "metadata": {},
   "outputs": [],
   "source": [
    "# We are going to predict the total household income of the test data\n",
    "# This is a regression problem\n",
    "# The sklearn library will be used to train the model\n",
    "\n",
    "y = cleaned_data['Total Household Income']"
   ]
  },
  {
   "cell_type": "code",
   "execution_count": 7,
   "metadata": {},
   "outputs": [],
   "source": [
    "data_for_prediction = expenditures_data\n"
   ]
  },
  {
   "cell_type": "code",
   "execution_count": 8,
   "metadata": {},
   "outputs": [],
   "source": [
    "from sklearn.neural_network import MLPRegressor\n",
    "import pandas as pd\n",
    "from sklearn.model_selection import train_test_split\n",
    "from sklearn.preprocessing import StandardScaler\n",
    "from sklearn.linear_model import LinearRegression, Ridge, Lasso, BayesianRidge\n",
    "from sklearn.metrics import mean_squared_error, r2_score, accuracy_score\n",
    "from sklearn.ensemble import RandomForestRegressor, GradientBoostingRegressor\n",
    "from sklearn.tree import DecisionTreeRegressor\n",
    "from sklearn.svm import SVR\n",
    "from sklearn.neighbors import KNeighborsRegressor"
   ]
  },
  {
   "cell_type": "code",
   "execution_count": 9,
   "metadata": {},
   "outputs": [],
   "source": [
    "regressors = {\n",
    "    'Linear Regression': LinearRegression(),\n",
    "    'Ridge Regression': Ridge(),\n",
    "    'Lasso Regression': Lasso(),\n",
    "    'Decision Tree': DecisionTreeRegressor(),\n",
    "    'Random Forest': RandomForestRegressor(),\n",
    "    'Gradient Boosting': GradientBoostingRegressor(),\n",
    "    'SVR': SVR(),\n",
    "    'KNN': KNeighborsRegressor(),\n",
    "    'MLP': MLPRegressor(hidden_layer_sizes=(100, 100), activation='relu', solver='adam'),\n",
    "    'Bayesian Ridge': BayesianRidge(),\n",
    "}\n",
    "\n"
   ]
  },
  {
   "cell_type": "code",
   "execution_count": 10,
   "metadata": {},
   "outputs": [
    {
     "name": "stdout",
     "output_type": "stream",
     "text": [
      "Linear Regression, Mean Squared Error: 6168854847.731797\n",
      "Linear Regression, R-squared: 0.8102298534386614\n",
      "Ridge Regression, Mean Squared Error: 6168883943.137716\n",
      "Ridge Regression, R-squared: 0.8102289583877027\n",
      "Lasso Regression, Mean Squared Error: 6168873571.806372\n",
      "Lasso Regression, R-squared: 0.810229277437043\n",
      "Decision Tree, Mean Squared Error: 12828540895.282572\n",
      "Decision Tree, R-squared: 0.6053604524734406\n",
      "Random Forest, Mean Squared Error: 5911018819.670193\n",
      "Random Forest, R-squared: 0.8181615655702955\n",
      "Gradient Boosting, Mean Squared Error: 5771930778.886762\n",
      "Gradient Boosting, R-squared: 0.8224402783194058\n",
      "SVR, Mean Squared Error: 35193166832.90742\n",
      "SVR, R-squared: -0.08263406948116381\n",
      "KNN, Mean Squared Error: 7573648660.1739\n",
      "KNN, R-squared: 0.767014713148301\n",
      "MLP, Mean Squared Error: 6077744328.720833\n",
      "MLP, R-squared: 0.8130326518465941\n",
      "Bayesian Ridge, Mean Squared Error: 6169328460.689288\n",
      "Bayesian Ridge, R-squared: 0.8102152838625286\n"
     ]
    },
    {
     "name": "stderr",
     "output_type": "stream",
     "text": [
      "c:\\Anaconda3\\lib\\site-packages\\sklearn\\neural_network\\_multilayer_perceptron.py:614: ConvergenceWarning: Stochastic Optimizer: Maximum iterations (200) reached and the optimization hasn't converged yet.\n",
      "  warnings.warn(\n"
     ]
    }
   ],
   "source": [
    "Split the data into training and testing sets\n",
    "X = cleaned_data[expenditures_data]\n",
    "y = cleaned_data['Total Household Income']\n",
    "X_train, X_test, y_train, y_test = train_test_split(X, y, test_size=0.2, random_state=42)\n",
    "\n",
    "\n",
    "scaler = StandardScaler()  # Optional: Scale the features for better performance\n",
    "X_train_scaled = scaler.fit_transform(X_train)\n",
    "X_test_scaled = scaler.transform(X_test)\n",
    "\n",
    "for model_name in regressors:\n",
    "    model = regressors[model_name]\n",
    "    model.fit(X_train_scaled, y_train)\n",
    "    y_pred = model.predict(X_test_scaled)\n",
    "    mse = mean_squared_error(y_test, y_pred)\n",
    "    r2 = r2_score(y_test, y_pred)\n",
    "    print(f\"{model_name}, Mean Squared Error:\", mse)\n",
    "    print(f\"{model_name}, R-squared:\", r2)\n",
    "\n",
    "\n",
    "\n",
    "\n",
    "# model = MLPRegressor(hidden_layer_sizes=(100, 100), activation='relu', solver='adam', random_state=42)\n",
    "# model.fit(X_train_scaled, y_train)\n",
    "# # Step 5: Evaluate the model on the testing data\n",
    "\n",
    "# y_pred = model.predict(X_test_scaled)\n",
    "# mse = mean_squared_error(y_test, y_pred)\n",
    "# r2 = r2_score(y_test, y_pred)\n",
    "\n",
    "# print(\"Mean Squared Error:\", mse)\n",
    "# print(\"R-squared:\", r2)"
   ]
  }
 ],
 "metadata": {
  "kernelspec": {
   "display_name": "base",
   "language": "python",
   "name": "python3"
  },
  "language_info": {
   "codemirror_mode": {
    "name": "ipython",
    "version": 3
   },
   "file_extension": ".py",
   "mimetype": "text/x-python",
   "name": "python",
   "nbconvert_exporter": "python",
   "pygments_lexer": "ipython3",
   "version": "3.9.7"
  },
  "orig_nbformat": 4
 },
 "nbformat": 4,
 "nbformat_minor": 2
}
