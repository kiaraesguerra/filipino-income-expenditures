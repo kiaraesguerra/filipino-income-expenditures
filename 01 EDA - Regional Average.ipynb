{
 "cells": [
  {
   "cell_type": "markdown",
   "metadata": {},
   "source": [
    "# Filipino Family Income and Expenditure: Regional Average\n",
    "\n",
    "In this section, we will perform data grouping based on regions. Grouping the data per region allows us to explore regional disparities, identify unique economic conditions, and understand how family income and expenditures vary across different parts of the country. We seek to answer the following questions:\n",
    "\n",
    "1. What are the regions with the highest and lowest average family income?\n",
    "2. How do family expenditures differ across regions?\n",
    "3. What are the major expense categories for families in different regions?\n",
    "4. Is there a correlation between family income and certain types of expenditures?\n",
    "5. Are there any significant outliers in the data that indicate unique economic conditions in certain regions?"
   ]
  },
  {
   "cell_type": "markdown",
   "metadata": {},
   "source": [
    "# 1. Import Python packages"
   ]
  },
  {
   "cell_type": "code",
   "execution_count": 1,
   "metadata": {},
   "outputs": [],
   "source": [
    "import pandas as pd\n",
    "import matplotlib.pyplot as plt\n",
    "import re"
   ]
  },
  {
   "cell_type": "markdown",
   "metadata": {},
   "source": [
    "# 2. Loading and Categorizing the Dataset"
   ]
  },
  {
   "cell_type": "code",
   "execution_count": 2,
   "metadata": {},
   "outputs": [],
   "source": [
    "data = pd.read_csv('Family Income and Expenditure.csv')"
   ]
  },
  {
   "cell_type": "markdown",
   "metadata": {},
   "source": [
    "Categorizing the data into: expenditures, income, household head data, number of appliances, property data, and family composition"
   ]
  },
  {
   "cell_type": "code",
   "execution_count": 3,
   "metadata": {},
   "outputs": [
    {
     "name": "stdout",
     "output_type": "stream",
     "text": [
      "['Region']\n"
     ]
    }
   ],
   "source": [
    "from data_utils import _expenditures_data, _income_data, _householdhead_data, _appliances_data, _property_information, _family_composition\n",
    "\n",
    "expenditures_data = _expenditures_data(data)\n",
    "income_data = _income_data(data)\n",
    "householdhead_data = _householdhead_data(data)\n",
    "appliances_data = _appliances_data(data)\n",
    "property_data = _property_information(data)\n",
    "family_composition_data = _family_composition(data)\n",
    "\n",
    "# Checking if all of the columns have been categorized \n",
    "collection = expenditures_data +  income_data + appliances_data +  householdhead_data + family_composition_data +  property_data\n",
    "missing = [element for element in data.columns if element not in collection]\n",
    "print(missing)\n"
   ]
  },
  {
   "cell_type": "markdown",
   "metadata": {},
   "source": [
    "# 3. Exploring the Dataset"
   ]
  },
  {
   "cell_type": "code",
   "execution_count": 4,
   "metadata": {},
   "outputs": [
    {
     "name": "stderr",
     "output_type": "stream",
     "text": [
      "c:\\Anaconda3\\lib\\site-packages\\fuzzywuzzy\\fuzz.py:11: UserWarning: Using slow pure-python SequenceMatcher. Install python-Levenshtein to remove this warning\n",
      "  warnings.warn('Using slow pure-python SequenceMatcher. Install python-Levenshtein to remove this warning')\n"
     ]
    }
   ],
   "source": [
    "from ipywidgets import interact, fixed\n",
    "from regional_utils import bar_chart_regional_average, create_dataframe_min_max"
   ]
  },
  {
   "cell_type": "markdown",
   "metadata": {},
   "source": [
    "## 3.1 Visualizing expenditures per region using bar charts\n",
    "\n",
    "We will first visualize the total household income and various expenditures per region using bar charts. The dropdown menu can be used to select a certain expenditure. The regions with lowest and highest values are denoted by red and green, respectively. \n",
    "\n"
   ]
  },
  {
   "cell_type": "code",
   "execution_count": 5,
   "metadata": {},
   "outputs": [
    {
     "data": {
      "application/vnd.jupyter.widget-view+json": {
       "model_id": "b10dbf81053147aca56bfca343bc5088",
       "version_major": 2,
       "version_minor": 0
      },
      "text/plain": [
       "interactive(children=(Dropdown(description='key', options=('Total Household Income', 'Total Food Expenditure',…"
      ]
     },
     "metadata": {},
     "output_type": "display_data"
    },
    {
     "data": {
      "text/plain": [
       "<function regional_utils.bar_chart_regional_average(data, key: list)>"
      ]
     },
     "execution_count": 5,
     "metadata": {},
     "output_type": "execute_result"
    }
   ],
   "source": [
    "keys = ['Total Household Income'] + expenditures_data\n",
    "interact(bar_chart_regional_average, data=fixed(data), key=keys)\n"
   ]
  },
  {
   "cell_type": "code",
   "execution_count": 6,
   "metadata": {},
   "outputs": [
    {
     "data": {
      "text/html": [
       "<div>\n",
       "<style scoped>\n",
       "    .dataframe tbody tr th:only-of-type {\n",
       "        vertical-align: middle;\n",
       "    }\n",
       "\n",
       "    .dataframe tbody tr th {\n",
       "        vertical-align: top;\n",
       "    }\n",
       "\n",
       "    .dataframe thead th {\n",
       "        text-align: right;\n",
       "    }\n",
       "</style>\n",
       "<table border=\"1\" class=\"dataframe\">\n",
       "  <thead>\n",
       "    <tr style=\"text-align: right;\">\n",
       "      <th></th>\n",
       "      <th>Total Household Income</th>\n",
       "      <th>Total Food Expenditure</th>\n",
       "      <th>Bread and Cereals Expenditure</th>\n",
       "      <th>Total Rice Expenditure</th>\n",
       "      <th>Meat Expenditure</th>\n",
       "      <th>Total Fish and  marine products Expenditure</th>\n",
       "      <th>Fruit Expenditure</th>\n",
       "      <th>Vegetables Expenditure</th>\n",
       "      <th>Restaurant and hotels Expenditure</th>\n",
       "      <th>Alcoholic Beverages Expenditure</th>\n",
       "      <th>Tobacco Expenditure</th>\n",
       "      <th>Clothing, Footwear and Other Wear Expenditure</th>\n",
       "      <th>Housing and water Expenditure</th>\n",
       "      <th>Medical Care Expenditure</th>\n",
       "      <th>Transportation Expenditure</th>\n",
       "      <th>Communication Expenditure</th>\n",
       "      <th>Education Expenditure</th>\n",
       "      <th>Miscellaneous Goods and Services Expenditure</th>\n",
       "      <th>Special Occasions Expenditure</th>\n",
       "      <th>Crop Farming and Gardening expenses</th>\n",
       "    </tr>\n",
       "  </thead>\n",
       "  <tbody>\n",
       "    <tr>\n",
       "      <th>0</th>\n",
       "      <td>NCR</td>\n",
       "      <td>NCR</td>\n",
       "      <td>VIII - Eastern Visayas</td>\n",
       "      <td>VIII - Eastern Visayas</td>\n",
       "      <td>NCR</td>\n",
       "      <td>ARMM</td>\n",
       "      <td>NCR</td>\n",
       "      <td>CAR</td>\n",
       "      <td>NCR</td>\n",
       "      <td>II - Cagayan Valley</td>\n",
       "      <td>III - Central Luzon</td>\n",
       "      <td>NCR</td>\n",
       "      <td>NCR</td>\n",
       "      <td>IVA - CALABARZON</td>\n",
       "      <td>NCR</td>\n",
       "      <td>NCR</td>\n",
       "      <td>NCR</td>\n",
       "      <td>NCR</td>\n",
       "      <td>IVA - CALABARZON</td>\n",
       "      <td>ARMM</td>\n",
       "    </tr>\n",
       "    <tr>\n",
       "      <th>1</th>\n",
       "      <td>ARMM</td>\n",
       "      <td>X - Northern Mindanao</td>\n",
       "      <td>II - Cagayan Valley</td>\n",
       "      <td>IX - Zasmboanga Peninsula</td>\n",
       "      <td>ARMM</td>\n",
       "      <td>X - Northern Mindanao</td>\n",
       "      <td>X - Northern Mindanao</td>\n",
       "      <td>X - Northern Mindanao</td>\n",
       "      <td>ARMM</td>\n",
       "      <td>ARMM</td>\n",
       "      <td>CAR</td>\n",
       "      <td>ARMM</td>\n",
       "      <td>ARMM</td>\n",
       "      <td>ARMM</td>\n",
       "      <td>ARMM</td>\n",
       "      <td>ARMM</td>\n",
       "      <td>ARMM</td>\n",
       "      <td>ARMM</td>\n",
       "      <td>ARMM</td>\n",
       "      <td>NCR</td>\n",
       "    </tr>\n",
       "  </tbody>\n",
       "</table>\n",
       "</div>"
      ],
      "text/plain": [
       "  Total Household Income Total Food Expenditure Bread and Cereals Expenditure  \\\n",
       "0                    NCR                    NCR        VIII - Eastern Visayas   \n",
       "1                   ARMM  X - Northern Mindanao           II - Cagayan Valley   \n",
       "\n",
       "      Total Rice Expenditure Meat Expenditure  \\\n",
       "0     VIII - Eastern Visayas              NCR   \n",
       "1  IX - Zasmboanga Peninsula             ARMM   \n",
       "\n",
       "  Total Fish and  marine products Expenditure      Fruit Expenditure  \\\n",
       "0                                        ARMM                    NCR   \n",
       "1                       X - Northern Mindanao  X - Northern Mindanao   \n",
       "\n",
       "  Vegetables Expenditure Restaurant and hotels Expenditure  \\\n",
       "0                    CAR                               NCR   \n",
       "1  X - Northern Mindanao                              ARMM   \n",
       "\n",
       "  Alcoholic Beverages Expenditure  Tobacco Expenditure  \\\n",
       "0             II - Cagayan Valley  III - Central Luzon   \n",
       "1                            ARMM                  CAR   \n",
       "\n",
       "  Clothing, Footwear and Other Wear Expenditure Housing and water Expenditure  \\\n",
       "0                                           NCR                           NCR   \n",
       "1                                          ARMM                          ARMM   \n",
       "\n",
       "  Medical Care Expenditure Transportation Expenditure  \\\n",
       "0         IVA - CALABARZON                        NCR   \n",
       "1                     ARMM                       ARMM   \n",
       "\n",
       "  Communication Expenditure Education Expenditure  \\\n",
       "0                       NCR                   NCR   \n",
       "1                      ARMM                  ARMM   \n",
       "\n",
       "  Miscellaneous Goods and Services Expenditure Special Occasions Expenditure  \\\n",
       "0                                          NCR              IVA - CALABARZON   \n",
       "1                                         ARMM                          ARMM   \n",
       "\n",
       "  Crop Farming and Gardening expenses  \n",
       "0                                ARMM  \n",
       "1                                 NCR  "
      ]
     },
     "execution_count": 6,
     "metadata": {},
     "output_type": "execute_result"
    }
   ],
   "source": [
    "# Summary of regional average icome and expenditures, showing the region with the highest (0) and lowest (1) average income and expenditures.\n",
    "max_min_dataframe = create_dataframe_min_max(data, keys)\n",
    "max_min_dataframe"
   ]
  },
  {
   "cell_type": "markdown",
   "metadata": {},
   "source": [
    "NCR has the highest average household income and food expenditures. The region also has the highest expenditures in meat, fruits, restaurant and hotels, clothing, housing and water, transportation, communication, education, and miscellaneous goods and services. Meanwhile, it had the lowest expenditures for crop farming and gardening.\n",
    "\n",
    "* Being the country's economic and political center, there are more lucrative job opportunities not available in other regions. The availability of opportunities brings more people to the region, resulting in higher demand for housing, consequently raising the costs.\n",
    "* Similar to housing, other basic necessities such as food are more expensive in the region due to the increased demand. This may also be explained by more expensive food preferences of the residents, i.e. having higher meat and fruits expenditures, which tend to be more expensive than food staples such as bread, cereals, and rice.\n",
    "* Having the highest expenditures on restaurants and hotels and miscellaneous goods and services may be explained by the availability of such establishments in the region (being highly urbanized) and the expectantly higher disposable income of the residents from having higher income. Furthermore, the urban lifestyle (which gets really busy) may also result in more frequent dining out.\n",
    "* Communication expenditures may be explained by the increased demand for connectivity, i.e. work, school, socialization, and the availability of high-end services, such as faster and more expensive internet plans.\n",
    "* Clothing expenditures may be explained by the urban lifestyle, e.g. keeping up with the trends from social media, occupations that require more \"professional\" get-ups.\n",
    "* Transportation expenditures in NCR could be explained by long commutes to work/school using various transportation modes such as buses, trains, jeepneys, and taxis. Although NCR is considered highly urbanized, work and school can be in a city different from one's residence. For instance, Malabon is a city in NCR also considered as highly urbanized, with a lot of job opportunities, but some residents still have a preference for jobs/universities in QC, Manila, Makati, etc., because the jobs are usually blue collar, contractual, or \"arawan\", while schools are limited to community colleges.\n",
    "* The region has the lowest expenditures in crop farming and gardening, which is expected from being highly urbanized with limited space for agriculture."
   ]
  },
  {
   "cell_type": "markdown",
   "metadata": {},
   "source": [
    "## 3.2 Visualizing the relation between income and expenditures using scatter plot"
   ]
  },
  {
   "cell_type": "code",
   "execution_count": 7,
   "metadata": {},
   "outputs": [
    {
     "data": {
      "application/vnd.jupyter.widget-view+json": {
       "model_id": "f9fda4988716476eba918a64a8cb34ef",
       "version_major": 2,
       "version_minor": 0
      },
      "text/plain": [
       "interactive(children=(Dropdown(description='key', options=('Total Food Expenditure', 'Bread and Cereals Expend…"
      ]
     },
     "metadata": {},
     "output_type": "display_data"
    },
    {
     "data": {
      "text/plain": [
       "<function regional_utils.regional_average_dependence(data, key)>"
      ]
     },
     "execution_count": 7,
     "metadata": {},
     "output_type": "execute_result"
    }
   ],
   "source": [
    "from regional_utils import regional_average_dependence\n",
    "interact(regional_average_dependence, data=fixed(data), key=expenditures_data)"
   ]
  },
  {
   "cell_type": "markdown",
   "metadata": {},
   "source": [
    "## 3.3 Visualizing the differences in income and expenditure through a choroplath map"
   ]
  },
  {
   "cell_type": "code",
   "execution_count": 14,
   "metadata": {},
   "outputs": [],
   "source": [
    "import geopandas as gpd\n",
    "from regional_utils import get_string_inside_parenthesis, make_map_text, load_regions_geodataframe, regional_averages_name_clean, choropleth"
   ]
  },
  {
   "cell_type": "code",
   "execution_count": 11,
   "metadata": {},
   "outputs": [],
   "source": [
    "expenditures_income_data = expenditures_data[:]\n",
    "expenditures_income_data.append('Total Household Income')\n",
    "regions_gdf_clean = load_regions_geodataframe()\n",
    "regional_averages = regional_averages_name_clean(data, expenditures_income_data)"
   ]
  },
  {
   "cell_type": "code",
   "execution_count": 12,
   "metadata": {},
   "outputs": [],
   "source": [
    "# Adding regional averages to the regions_clean dataframe\n",
    "merged_df = pd.merge(regions_gdf_clean, regional_averages, left_on='REGION', right_on='Region', how='left')"
   ]
  },
  {
   "cell_type": "code",
   "execution_count": 15,
   "metadata": {},
   "outputs": [
    {
     "data": {
      "application/vnd.jupyter.widget-view+json": {
       "model_id": "93bc19823ef440fc9c7c0668630008af",
       "version_major": 2,
       "version_minor": 0
      },
      "text/plain": [
       "interactive(children=(Dropdown(description='key', options=('Total Food Expenditure', 'Bread and Cereals Expend…"
      ]
     },
     "metadata": {},
     "output_type": "display_data"
    },
    {
     "data": {
      "text/plain": [
       "<function regional_utils.choropleth(merged_df, key)>"
      ]
     },
     "execution_count": 15,
     "metadata": {},
     "output_type": "execute_result"
    }
   ],
   "source": [
    "interact(choropleth, merged_df=fixed(merged_df), key=expenditures_data)"
   ]
  }
 ],
 "metadata": {
  "kernelspec": {
   "display_name": "base",
   "language": "python",
   "name": "python3"
  },
  "language_info": {
   "codemirror_mode": {
    "name": "ipython",
    "version": 3
   },
   "file_extension": ".py",
   "mimetype": "text/x-python",
   "name": "python",
   "nbconvert_exporter": "python",
   "pygments_lexer": "ipython3",
   "version": "3.9.7"
  },
  "orig_nbformat": 4
 },
 "nbformat": 4,
 "nbformat_minor": 2
}
