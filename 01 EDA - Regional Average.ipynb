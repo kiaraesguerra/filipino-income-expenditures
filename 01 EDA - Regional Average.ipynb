{
 "cells": [
  {
   "cell_type": "markdown",
   "metadata": {},
   "source": [
    "# Filipino Family Income and Expenditure: Regional Average\n",
    "\n",
    "In this section, we will perform data grouping based on regions. Grouping the data per region allows us to explore regional disparities, identify unique economic conditions, and understand how family income and expenditures vary across different parts of the country. We seek to answer the following questions:\n",
    "\n",
    "1. What are the regions with the highest and lowest average family income?\n",
    "2. How do family expenditures differ across regions?\n",
    "3. What are the major expense categories for families in different regions?\n",
    "4. Is there a correlation between family income and certain types of expenditures?\n",
    "5. Are there any significant outliers in the data that indicate unique economic conditions in certain regions?"
   ]
  },
  {
   "cell_type": "markdown",
   "metadata": {},
   "source": [
    "# 1. Import Python packages"
   ]
  },
  {
   "cell_type": "code",
   "execution_count": null,
   "metadata": {},
   "outputs": [],
   "source": [
    "import pandas as pd\n",
    "import matplotlib.pyplot as plt\n",
    "import re"
   ]
  },
  {
   "cell_type": "code",
   "execution_count": null,
   "metadata": {},
   "outputs": [],
   "source": [
    "from data_utils import _remove_income_outlier, _expenditures_data, _income_data, _householdhead_data, _appliances_data, _property_information, _family_composition"
   ]
  },
  {
   "cell_type": "markdown",
   "metadata": {},
   "source": [
    "# 2. Loading and Categorizing the Dataset"
   ]
  },
  {
   "cell_type": "code",
   "execution_count": null,
   "metadata": {},
   "outputs": [],
   "source": [
    "data = pd.read_csv('Family Income and Expenditure.csv')\n",
    "data = _remove_income_outlier(data)"
   ]
  },
  {
   "cell_type": "markdown",
   "metadata": {},
   "source": [
    "Categorizing the data into: expenditures, income, household head data, number of appliances, property data, and family composition"
   ]
  },
  {
   "cell_type": "code",
   "execution_count": null,
   "metadata": {},
   "outputs": [],
   "source": [
    "from data_utils import _expenditures_data, _income_data, _householdhead_data, _appliances_data, _property_information, _family_composition\n",
    "\n",
    "expenditures_data = _expenditures_data(data)\n",
    "income_data = _income_data(data)\n",
    "householdhead_data = _householdhead_data(data)\n",
    "appliances_data = _appliances_data(data)\n",
    "property_data = _property_information(data)\n",
    "family_composition_data = _family_composition(data)\n",
    "\n",
    "# Checking if all of the columns have been categorized \n",
    "collection = expenditures_data +  income_data + appliances_data +  householdhead_data + family_composition_data +  property_data\n",
    "missing = [element for element in data.columns if element not in collection]\n",
    "print(missing)\n"
   ]
  },
  {
   "cell_type": "markdown",
   "metadata": {},
   "source": [
    "# 3. Exploring the Expenditures"
   ]
  },
  {
   "cell_type": "code",
   "execution_count": null,
   "metadata": {},
   "outputs": [],
   "source": [
    "from ipywidgets import interact, fixed\n",
    "from regional_utils import bar_chart_regional_average, create_dataframe_min_max"
   ]
  },
  {
   "cell_type": "markdown",
   "metadata": {},
   "source": [
    "## 3.1 Visualizing expenditures per region using bar charts\n",
    "\n",
    "We will first visualize the total household income and various expenditures per region using bar charts. The dropdown menu can be used to select a certain expenditure. The regions with lowest and highest values are denoted by red and green, respectively. \n",
    "\n"
   ]
  },
  {
   "cell_type": "code",
   "execution_count": null,
   "metadata": {},
   "outputs": [],
   "source": [
    "keys = ['Total Household Income'] + expenditures_data\n",
    "interact(bar_chart_regional_average, data=fixed(data), key=keys, average=True)\n"
   ]
  },
  {
   "cell_type": "code",
   "execution_count": null,
   "metadata": {},
   "outputs": [],
   "source": [
    "# Summary of regional average icome and expenditures, showing the region with the highest (0) and lowest (1) average income and expenditures.\n",
    "max_min_dataframe = create_dataframe_min_max(data, keys)\n",
    "max_min_dataframe"
   ]
  },
  {
   "cell_type": "markdown",
   "metadata": {},
   "source": [
    "NCR has the highest average household income and food expenditures. The region also has the highest expenditures in meat, fruits, restaurant and hotels, clothing, housing and water, transportation, communication, education, and miscellaneous goods and services. Meanwhile, it had the lowest expenditures for crop farming and gardening.\n",
    "\n",
    "* As the country's economic and political center, there are more lucrative job opportunities not available in other regions. The availability of opportunities brings more people to the region, resulting in higher demand for housing, consequently raising the costs.\n",
    "* Similar to housing, other basic necessities such as food are more expensive in the region due to the increased demand. This may also be explained by more expensive food preferences of the residents, i.e. having higher meat and fruits expenditures, which tend to be more expensive than food staples such as bread, cereals, and rice.\n",
    "* Having the highest expenditures on restaurants and hotels and miscellaneous goods and services may be explained by the availability of such establishments in the region (being highly urbanized) and the expectantly higher disposable income of the residents from having higher income. Furthermore, the urban lifestyle (which gets really busy) may also result in more frequent dining out.\n",
    "* Communication expenditures may be explained by the increased demand for connectivity, i.e. work, school, socialization, and the availability of high-end services, such as faster and more expensive internet plans.\n",
    "* Clothing expenditures may be explained by the urban lifestyle, e.g. keeping up with the trends from social media, occupations that require more \"professional\" attire.\n",
    "* Transportation expenditures in NCR could be explained by long commutes to work/school using various transportation modes such as buses, trains, jeepneys, and taxis. Although NCR is considered highly urbanized, work and school can be in a city different from one's residence. For instance, Malabon is a city in NCR also considered as highly urbanized, with a lot of job opportunities, but some residents still have a preference for jobs/universities in QC, Manila, Makati, etc., because the jobs are usually blue collar, contractual, or \"arawan\", while schools are limited to community colleges.\n",
    "* The region has the lowest expenditures in crop farming and gardening, which is expected from being highly urbanized with limited space for agriculture.\n",
    "\n",
    "CALABARZON has the highest medical care and special occassions expenditure"
   ]
  },
  {
   "cell_type": "markdown",
   "metadata": {},
   "source": [
    "## 3.2 Visualizing the relation between income and expenditures using scatter plot"
   ]
  },
  {
   "cell_type": "code",
   "execution_count": null,
   "metadata": {},
   "outputs": [],
   "source": [
    "from regional_utils import regional_average_dependence\n",
    "interact(regional_average_dependence, data=fixed(data), key=expenditures_data)"
   ]
  },
  {
   "cell_type": "markdown",
   "metadata": {},
   "source": [
    "## 3.3 Visualizing the differences in income and expenditure through a choropleth map"
   ]
  },
  {
   "cell_type": "code",
   "execution_count": null,
   "metadata": {},
   "outputs": [],
   "source": [
    "import geopandas as gpd\n",
    "from regional_utils import get_string_inside_parenthesis, make_map_text, load_regions_geodataframe, regional_averages_name_clean, choropleth"
   ]
  },
  {
   "cell_type": "code",
   "execution_count": null,
   "metadata": {},
   "outputs": [],
   "source": [
    "data = pd.read_csv('Family Income and Expenditure.csv')\n",
    "regions_gdf_clean = load_regions_geodataframe()\n",
    "regional_averages = regional_averages_name_clean(data, keys)"
   ]
  },
  {
   "cell_type": "code",
   "execution_count": null,
   "metadata": {},
   "outputs": [],
   "source": [
    "# Adding regional averages to the regions_clean dataframe\n",
    "merged_df = pd.merge(regions_gdf_clean, regional_averages, left_on='REGION', right_on='Region', how='left')"
   ]
  },
  {
   "cell_type": "code",
   "execution_count": null,
   "metadata": {},
   "outputs": [],
   "source": [
    "interact(choropleth, merged_df=fixed(merged_df), key=keys)"
   ]
  },
  {
   "cell_type": "markdown",
   "metadata": {},
   "source": [
    "# 4. Exploring the Income"
   ]
  },
  {
   "cell_type": "markdown",
   "metadata": {},
   "source": [
    "## 4.1 Income from Entrepreneural Activities"
   ]
  },
  {
   "cell_type": "code",
   "execution_count": null,
   "metadata": {},
   "outputs": [],
   "source": [
    "bar_chart_regional_average(data, 'Total Income from Entrepreneurial Acitivites')"
   ]
  },
  {
   "cell_type": "markdown",
   "metadata": {},
   "source": [
    "## 4.2 Main Sources of Income Per Region"
   ]
  },
  {
   "cell_type": "code",
   "execution_count": null,
   "metadata": {},
   "outputs": [],
   "source": [
    "regional_average_column = data.groupby('Region')['Main Source of Income'].value_counts().unstack().reset_index()"
   ]
  },
  {
   "cell_type": "code",
   "execution_count": null,
   "metadata": {},
   "outputs": [],
   "source": [
    "ax = regional_average_column.plot(kind='bar', stacked=True, figsize=(10, 6))\n",
    "plt.title('Main Source of Income by Region')\n",
    "plt.ylabel('Number of Individuals')\n",
    "plt.xlabel('Region')\n",
    "plt.legend(title='Income Source')\n",
    "ax.set_xticklabels([entry.split()[0] for entry in regional_average_column[\"Region\"]],  rotation = 0, ha='right')\n",
    "plt.tight_layout()\n",
    "\n",
    "plt.show()\n"
   ]
  },
  {
   "cell_type": "markdown",
   "metadata": {},
   "source": []
  }
 ],
 "metadata": {
  "kernelspec": {
   "display_name": "base",
   "language": "python",
   "name": "python3"
  },
  "language_info": {
   "codemirror_mode": {
    "name": "ipython",
    "version": 3
   },
   "file_extension": ".py",
   "mimetype": "text/x-python",
   "name": "python",
   "nbconvert_exporter": "python",
   "pygments_lexer": "ipython3",
   "version": "3.9.7"
  },
  "orig_nbformat": 4
 },
 "nbformat": 4,
 "nbformat_minor": 2
}
