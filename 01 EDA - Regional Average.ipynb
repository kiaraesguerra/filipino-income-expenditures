{
 "cells": [
  {
   "cell_type": "markdown",
   "metadata": {},
   "source": [
    "# Filipino Family Income and Expenditure: Regional Average\n"
   ]
  },
  {
   "cell_type": "markdown",
   "metadata": {},
   "source": [
    "# 1. Import Python packages"
   ]
  },
  {
   "cell_type": "code",
   "execution_count": 1,
   "metadata": {},
   "outputs": [],
   "source": [
    "import pandas as pd\n",
    "import matplotlib.pyplot as plt\n",
    "import re"
   ]
  },
  {
   "cell_type": "markdown",
   "metadata": {},
   "source": [
    "# 2. Loading and Categorizing the Dataset"
   ]
  },
  {
   "cell_type": "code",
   "execution_count": 2,
   "metadata": {},
   "outputs": [],
   "source": [
    "data = pd.read_csv('Family Income and Expenditure.csv')"
   ]
  },
  {
   "cell_type": "markdown",
   "metadata": {},
   "source": [
    "Categorizing the data into: expenditures, income, household head data, number of appliances, property data, and family composition"
   ]
  },
  {
   "cell_type": "code",
   "execution_count": 3,
   "metadata": {},
   "outputs": [
    {
     "name": "stdout",
     "output_type": "stream",
     "text": [
      "['Region']\n"
     ]
    }
   ],
   "source": [
    "from data_utils import _expenditures_data, _income_data, _householdhead_data, _appliances_data, _property_information, _family_composition\n",
    "\n",
    "expenditures_data = _expenditures_data(data)\n",
    "income_data = _income_data(data)\n",
    "householdhead_data = _householdhead_data(data)\n",
    "appliances_data = _appliances_data(data)\n",
    "property_data = _property_information(data)\n",
    "family_composition_data = _family_composition(data)\n",
    "\n",
    "# Checking if all of the columns have been categorized \n",
    "collection = expenditures_data +  income_data + appliances_data +  householdhead_data + family_composition_data +  property_data\n",
    "missing = [element for element in data.columns if element not in collection]\n",
    "print(missing)\n"
   ]
  },
  {
   "cell_type": "markdown",
   "metadata": {},
   "source": [
    "# 3. Exploring the Dataset: Regional Averages\n",
    "\n",
    "In this section, we will perform data grouping based on regions. Grouping the data per region allows us to explore regional disparities, identify unique economic conditions, and understand how family income and expenditures vary across different parts of the country. We seek to answer the following questions:\n",
    "\n",
    "1. What are the regions with the highest and lowest average family income?\n",
    "2. How do family expenditures differ across regions?\n",
    "3. What are the major expense categories for families in different regions?\n",
    "4. Is there a correlation between family income and certain types of expenditures?\n",
    "5. Are there any significant outliers in the data that indicate unique economic conditions in certain regions?"
   ]
  },
  {
   "cell_type": "code",
   "execution_count": 8,
   "metadata": {},
   "outputs": [],
   "source": [
    "from ipywidgets import interact, fixed\n",
    "from regional_utils import bar_chart_regional_average, create_dataframe_min_max"
   ]
  },
  {
   "cell_type": "markdown",
   "metadata": {},
   "source": [
    "## 3.1 Visualizing expenditures per region using bar charts\n",
    "\n",
    "We will first visualize the total household income and various expenditures per region using bar charts. The dropdown menu can be used to select a certain expenditure. The regions with lowest and highest values are denoted by red and green, respectively. \n",
    "\n"
   ]
  },
  {
   "cell_type": "code",
   "execution_count": 5,
   "metadata": {},
   "outputs": [
    {
     "data": {
      "application/vnd.jupyter.widget-view+json": {
       "model_id": "92defb462100453eac62711a6ae70dde",
       "version_major": 2,
       "version_minor": 0
      },
      "text/plain": [
       "interactive(children=(Dropdown(description='key', options=('Total Household Income', 'Total Food Expenditure',…"
      ]
     },
     "metadata": {},
     "output_type": "display_data"
    },
    {
     "data": {
      "text/plain": [
       "<function regional_utils.bar_chart_regional_average(data, key: list)>"
      ]
     },
     "execution_count": 5,
     "metadata": {},
     "output_type": "execute_result"
    }
   ],
   "source": [
    "keys = ['Total Household Income'] + expenditures_data\n",
    "interact(bar_chart_regional_average, data=fixed(data), key=keys)\n"
   ]
  },
  {
   "cell_type": "code",
   "execution_count": 9,
   "metadata": {},
   "outputs": [
    {
     "data": {
      "text/html": [
       "<div>\n",
       "<style scoped>\n",
       "    .dataframe tbody tr th:only-of-type {\n",
       "        vertical-align: middle;\n",
       "    }\n",
       "\n",
       "    .dataframe tbody tr th {\n",
       "        vertical-align: top;\n",
       "    }\n",
       "\n",
       "    .dataframe thead th {\n",
       "        text-align: right;\n",
       "    }\n",
       "</style>\n",
       "<table border=\"1\" class=\"dataframe\">\n",
       "  <thead>\n",
       "    <tr style=\"text-align: right;\">\n",
       "      <th></th>\n",
       "      <th>Total Household Income</th>\n",
       "      <th>Total Food Expenditure</th>\n",
       "      <th>Bread and Cereals Expenditure</th>\n",
       "      <th>Total Rice Expenditure</th>\n",
       "      <th>Meat Expenditure</th>\n",
       "      <th>Total Fish and  marine products Expenditure</th>\n",
       "      <th>Fruit Expenditure</th>\n",
       "      <th>Vegetables Expenditure</th>\n",
       "      <th>Restaurant and hotels Expenditure</th>\n",
       "      <th>Alcoholic Beverages Expenditure</th>\n",
       "      <th>Tobacco Expenditure</th>\n",
       "      <th>Clothing, Footwear and Other Wear Expenditure</th>\n",
       "      <th>Housing and water Expenditure</th>\n",
       "      <th>Medical Care Expenditure</th>\n",
       "      <th>Transportation Expenditure</th>\n",
       "      <th>Communication Expenditure</th>\n",
       "      <th>Education Expenditure</th>\n",
       "      <th>Miscellaneous Goods and Services Expenditure</th>\n",
       "      <th>Special Occasions Expenditure</th>\n",
       "      <th>Crop Farming and Gardening expenses</th>\n",
       "    </tr>\n",
       "  </thead>\n",
       "  <tbody>\n",
       "    <tr>\n",
       "      <th>0</th>\n",
       "      <td>NCR</td>\n",
       "      <td>NCR</td>\n",
       "      <td>VIII - Eastern Visayas</td>\n",
       "      <td>VIII - Eastern Visayas</td>\n",
       "      <td>NCR</td>\n",
       "      <td>ARMM</td>\n",
       "      <td>NCR</td>\n",
       "      <td>CAR</td>\n",
       "      <td>NCR</td>\n",
       "      <td>II - Cagayan Valley</td>\n",
       "      <td>III - Central Luzon</td>\n",
       "      <td>NCR</td>\n",
       "      <td>NCR</td>\n",
       "      <td>IVA - CALABARZON</td>\n",
       "      <td>NCR</td>\n",
       "      <td>NCR</td>\n",
       "      <td>NCR</td>\n",
       "      <td>NCR</td>\n",
       "      <td>IVA - CALABARZON</td>\n",
       "      <td>ARMM</td>\n",
       "    </tr>\n",
       "    <tr>\n",
       "      <th>1</th>\n",
       "      <td>ARMM</td>\n",
       "      <td>X - Northern Mindanao</td>\n",
       "      <td>II - Cagayan Valley</td>\n",
       "      <td>IX - Zasmboanga Peninsula</td>\n",
       "      <td>ARMM</td>\n",
       "      <td>X - Northern Mindanao</td>\n",
       "      <td>X - Northern Mindanao</td>\n",
       "      <td>X - Northern Mindanao</td>\n",
       "      <td>ARMM</td>\n",
       "      <td>ARMM</td>\n",
       "      <td>CAR</td>\n",
       "      <td>ARMM</td>\n",
       "      <td>ARMM</td>\n",
       "      <td>ARMM</td>\n",
       "      <td>ARMM</td>\n",
       "      <td>ARMM</td>\n",
       "      <td>ARMM</td>\n",
       "      <td>ARMM</td>\n",
       "      <td>ARMM</td>\n",
       "      <td>NCR</td>\n",
       "    </tr>\n",
       "  </tbody>\n",
       "</table>\n",
       "</div>"
      ],
      "text/plain": [
       "  Total Household Income Total Food Expenditure Bread and Cereals Expenditure  \\\n",
       "0                    NCR                    NCR        VIII - Eastern Visayas   \n",
       "1                   ARMM  X - Northern Mindanao           II - Cagayan Valley   \n",
       "\n",
       "      Total Rice Expenditure Meat Expenditure  \\\n",
       "0     VIII - Eastern Visayas              NCR   \n",
       "1  IX - Zasmboanga Peninsula             ARMM   \n",
       "\n",
       "  Total Fish and  marine products Expenditure      Fruit Expenditure  \\\n",
       "0                                        ARMM                    NCR   \n",
       "1                       X - Northern Mindanao  X - Northern Mindanao   \n",
       "\n",
       "  Vegetables Expenditure Restaurant and hotels Expenditure  \\\n",
       "0                    CAR                               NCR   \n",
       "1  X - Northern Mindanao                              ARMM   \n",
       "\n",
       "  Alcoholic Beverages Expenditure  Tobacco Expenditure  \\\n",
       "0             II - Cagayan Valley  III - Central Luzon   \n",
       "1                            ARMM                  CAR   \n",
       "\n",
       "  Clothing, Footwear and Other Wear Expenditure Housing and water Expenditure  \\\n",
       "0                                           NCR                           NCR   \n",
       "1                                          ARMM                          ARMM   \n",
       "\n",
       "  Medical Care Expenditure Transportation Expenditure  \\\n",
       "0         IVA - CALABARZON                        NCR   \n",
       "1                     ARMM                       ARMM   \n",
       "\n",
       "  Communication Expenditure Education Expenditure  \\\n",
       "0                       NCR                   NCR   \n",
       "1                      ARMM                  ARMM   \n",
       "\n",
       "  Miscellaneous Goods and Services Expenditure Special Occasions Expenditure  \\\n",
       "0                                          NCR              IVA - CALABARZON   \n",
       "1                                         ARMM                          ARMM   \n",
       "\n",
       "  Crop Farming and Gardening expenses  \n",
       "0                                ARMM  \n",
       "1                                 NCR  "
      ]
     },
     "execution_count": 9,
     "metadata": {},
     "output_type": "execute_result"
    }
   ],
   "source": [
    "max_min_dataframe = create_dataframe_min_max(data, keys)\n",
    "max_min_dataframe"
   ]
  },
  {
   "cell_type": "markdown",
   "metadata": {},
   "source": [
    "NCR has the highest average total household income and total food expenditures. The region also has the highest expenditures in meat, fruits, restaurant and hotels, clothing, housing and water, transportation, communication, education, and miscellaneous goods and services. Meanwhile, the region has the lowest expenditures in crop farming and gardening.\n",
    "\n",
    "The high average total household income and total food expenditures in the region may be attributed to its status as the country's economic and political center, leading to higher-paying job opportunities that are not available in other regions. Due to the influx of population, there is higher demand for housing which leads to increase in rent and property values.\n"
   ]
  },
  {
   "cell_type": "markdown",
   "metadata": {},
   "source": [
    "## 3.2 Visualizing the relation between income and expenditures using scatter plot"
   ]
  },
  {
   "cell_type": "code",
   "execution_count": 10,
   "metadata": {},
   "outputs": [
    {
     "data": {
      "application/vnd.jupyter.widget-view+json": {
       "model_id": "4270315391b647259da783ee0c6c1ed4",
       "version_major": 2,
       "version_minor": 0
      },
      "text/plain": [
       "interactive(children=(Dropdown(description='key', options=('Total Food Expenditure', 'Bread and Cereals Expend…"
      ]
     },
     "metadata": {},
     "output_type": "display_data"
    },
    {
     "data": {
      "text/plain": [
       "<function regional_utils.regional_average_dependence(data, key)>"
      ]
     },
     "execution_count": 10,
     "metadata": {},
     "output_type": "execute_result"
    }
   ],
   "source": [
    "from regional_utils import regional_average_dependence\n",
    "interact(regional_average_dependence, data=fixed(data), key=expenditures_data)"
   ]
  },
  {
   "cell_type": "markdown",
   "metadata": {},
   "source": [
    "# 3.3 Visualizing the differences in income and expenditure through a choroplath map"
   ]
  },
  {
   "cell_type": "code",
   "execution_count": 11,
   "metadata": {},
   "outputs": [],
   "source": [
    "import geopandas as gpd\n",
    "from regional_utils import get_string_inside_parenthesis, make_map_text"
   ]
  },
  {
   "cell_type": "code",
   "execution_count": 12,
   "metadata": {},
   "outputs": [],
   "source": [
    "regions = gpd.GeoDataFrame.from_file('map/ph-regions-2015.shp')\n",
    "regions.REGION = regions.REGION.apply(get_string_inside_parenthesis)\n",
    "\n",
    "psgg_code = pd.read_csv('map/psgg_codes.csv', dtype=object)\n",
    "map_names = psgg_code.loc[:, ['psgg_code', 'region']]\n",
    "map_names['region'] = map_names['region'].apply(lambda x: make_map_text(x))\n",
    "map_names.set_index('psgg_code', inplace=True, drop=True)\n",
    "expenditures_income_data = expenditures_data.append('Total Household Income')\n",
    "\n",
    "# Removing NIR in the regions shapes\n",
    "regions_clean = regions.drop(regions.index[-1]) # Drop the last row\n",
    "regional_averages = data.groupby(\"Region\")[expenditures_data].mean().reset_index()\n",
    "\n",
    "regional_averages[\"Region\"] = [entry.split()[0] for entry in regional_averages[\"Region\"]] # Representing the regions with numbers\n",
    "regional_averages.loc[6, \"Region\"] = \"IV-A\" # Match the entry in regions_clean\n",
    "regional_averages.loc[7, \"Region\"] = \"IV-B\" # match the entry in regions_clean\n",
    "regional_averages.loc[2, \"Region\"] = \"XIII\" # match the entry in regions_clean\n",
    "\n",
    "# Adding regional averages to the regions_clean dataframe\n",
    "merged_df = pd.merge(regions_clean, regional_averages, left_on='REGION', right_on='Region', how='left')\n",
    "region_order = merged_df['Region']"
   ]
  },
  {
   "cell_type": "code",
   "execution_count": 13,
   "metadata": {},
   "outputs": [],
   "source": [
    "def choropleth(merged_df, key):\n",
    "    plt.style.use('ggplot')\n",
    "    fig, ax = plt.subplots(figsize=(10, 10))\n",
    "\n",
    "    merged_df.plot(ax=ax, cmap='viridis', column =key, linewidth=1, legend=True)\n",
    "\n",
    "    for i, point in merged_df.iterrows():\n",
    "        point_centroid = point.geometry.centroid\n",
    "        reg_n = region_order[i]\n",
    "        ax.text(s=reg_n, x=point_centroid.x, y=point_centroid.y, fontsize='large')\n",
    "\n",
    "    ax.set_title('PH Administrative Regions (Present)', fontfamily='helvetica', fontsize=20)\n",
    "    ax.set_axis_off()\n"
   ]
  },
  {
   "cell_type": "code",
   "execution_count": 14,
   "metadata": {},
   "outputs": [
    {
     "data": {
      "application/vnd.jupyter.widget-view+json": {
       "model_id": "29bfb2a5f8f142d69f5499207649ed8e",
       "version_major": 2,
       "version_minor": 0
      },
      "text/plain": [
       "interactive(children=(Dropdown(description='key', options=('Total Food Expenditure', 'Bread and Cereals Expend…"
      ]
     },
     "metadata": {},
     "output_type": "display_data"
    },
    {
     "data": {
      "text/plain": [
       "<function __main__.choropleth(merged_df, key)>"
      ]
     },
     "execution_count": 14,
     "metadata": {},
     "output_type": "execute_result"
    }
   ],
   "source": [
    "interact(choropleth, merged_df=fixed(merged_df), key=expenditures_data)"
   ]
  },
  {
   "cell_type": "code",
   "execution_count": null,
   "metadata": {},
   "outputs": [],
   "source": []
  }
 ],
 "metadata": {
  "kernelspec": {
   "display_name": "base",
   "language": "python",
   "name": "python3"
  },
  "language_info": {
   "codemirror_mode": {
    "name": "ipython",
    "version": 3
   },
   "file_extension": ".py",
   "mimetype": "text/x-python",
   "name": "python",
   "nbconvert_exporter": "python",
   "pygments_lexer": "ipython3",
   "version": "3.9.7"
  },
  "orig_nbformat": 4
 },
 "nbformat": 4,
 "nbformat_minor": 2
}
