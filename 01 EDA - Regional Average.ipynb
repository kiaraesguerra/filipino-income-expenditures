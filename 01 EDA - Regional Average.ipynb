{
 "cells": [
  {
   "cell_type": "markdown",
   "metadata": {},
   "source": [
    "# Filipino Family Income and Expenditure: Explore the Data\n",
    "\n",
    "This notebook is an exploration of the Filipino Family Income and Expenditure dataset. The dataset was acquired from [Kaggle](https://www.kaggle.com/datasets/grosvenpaul/family-income-and-expenditure) which was gathered by the Philippine Statistics Authority.\n"
   ]
  },
  {
   "cell_type": "markdown",
   "metadata": {},
   "source": [
    "# 1. Import Python packages"
   ]
  },
  {
   "cell_type": "code",
   "execution_count": 1,
   "metadata": {},
   "outputs": [],
   "source": [
    "import pandas as pd\n",
    "import matplotlib.pyplot as plt\n",
    "import re"
   ]
  },
  {
   "cell_type": "markdown",
   "metadata": {},
   "source": [
    "# 2. Loading and exploring the dataset"
   ]
  },
  {
   "cell_type": "markdown",
   "metadata": {},
   "source": []
  },
  {
   "cell_type": "code",
   "execution_count": 2,
   "metadata": {},
   "outputs": [],
   "source": [
    "data = pd.read_csv('Family Income and Expenditure.csv')"
   ]
  },
  {
   "cell_type": "markdown",
   "metadata": {},
   "source": [
    "Splitting the data into different categories: Expenditures, Income, Household Head, Electronic Devices, House Information, and Family Composition"
   ]
  },
  {
   "cell_type": "code",
   "execution_count": 3,
   "metadata": {},
   "outputs": [
    {
     "name": "stdout",
     "output_type": "stream",
     "text": [
      "['Region']\n"
     ]
    }
   ],
   "source": [
    "# Data regarding household expenditures\n",
    "expenditures_data = data.filter(regex=re.compile(r'expenditure', re.IGNORECASE)).columns.tolist()\n",
    "expenditures_data.append('Crop Farming and Gardening expenses')\n",
    "\n",
    "income_data = data.filter(regex=re.compile(r'income', re.IGNORECASE)).columns.tolist()\n",
    "householdhead_data = data.filter(regex=re.compile(r'household head', re.IGNORECASE)).columns.tolist()\n",
    "\n",
    "\n",
    "# Numbers\n",
    "number_data = data.filter(regex=re.compile(r'number', re.IGNORECASE)).columns.tolist()\n",
    "number_data.remove('Total Number of Family members')\n",
    "number_data.remove('Total number of family members employed')\n",
    "number_data.remove('Number of bedrooms')\n",
    "\n",
    "\n",
    "# Data regarding the house\n",
    "house_data = data.filter(regex=re.compile(r'type', re.IGNORECASE)).columns.tolist()\n",
    "house_data_additional = ['House Floor Area', \n",
    "                         'Tenure Status', \n",
    "                         'Toilet Facilities', \n",
    "                         'Electricity', \n",
    "                         'Main Source of Water Supply', \n",
    "                         'House Age', \n",
    "                         'Imputed House Rental Value',\n",
    "                         'Number of bedrooms'\n",
    "                         ]\n",
    "house_data.remove('Type of Household') # This will be included in the family members data\n",
    "house_data.extend(house_data_additional)\n",
    "\n",
    "\n",
    "# Data regarding family composition\n",
    "family_members_data = data.filter(regex=re.compile(r'members', re.IGNORECASE)).columns.tolist()\n",
    "family_members_data.extend(['Type of Household',\n",
    "                            'Agricultural Household indicator'])\n",
    "\n",
    "\n",
    "# Checking if all of the columns have been categorized \n",
    "collection = expenditures_data +  income_data + number_data +  householdhead_data + family_members_data +  house_data\n",
    "missing = [element for element in data.columns if element not in collection]\n",
    "print(missing)\n"
   ]
  },
  {
   "cell_type": "markdown",
   "metadata": {},
   "source": [
    "# Regional Average\n",
    "\n",
    "In this section, we will perform data grouping based on regions. Grouping the data per region allows us to explore regional disparities, identify unique economic conditions, and understand how family income and expenditures vary across different parts of the country. We seek to answer the following questions:\n",
    "\n",
    "1. What are the regions with the highest and lowest average family income?\n",
    "2. How do family expenditures differ across regions?\n",
    "3. What are the major expense categories for families in different regions?\n",
    "4. Is there a correlation between family income and certain types of expenditures?\n",
    "5. Are there any significant outliers in the data that indicate unique economic conditions in certain regions?"
   ]
  },
  {
   "cell_type": "code",
   "execution_count": 6,
   "metadata": {},
   "outputs": [],
   "source": [
    "from ipywidgets import interact, fixed\n",
    "from regional_utils import bar_chart_regional_average"
   ]
  },
  {
   "cell_type": "markdown",
   "metadata": {},
   "source": [
    "We will first visualize the total household income and various expenditures per region."
   ]
  },
  {
   "cell_type": "code",
   "execution_count": 7,
   "metadata": {},
   "outputs": [
    {
     "data": {
      "application/vnd.jupyter.widget-view+json": {
       "model_id": "16f0db3fe2034fac8d95465af50fb54f",
       "version_major": 2,
       "version_minor": 0
      },
      "text/plain": [
       "interactive(children=(Dropdown(description='key', options=('Total Household Income', 'Total Food Expenditure',…"
      ]
     },
     "metadata": {},
     "output_type": "display_data"
    },
    {
     "data": {
      "text/plain": [
       "<function regional_utils.bar_chart_regional_average(data, key: list)>"
      ]
     },
     "execution_count": 7,
     "metadata": {},
     "output_type": "execute_result"
    }
   ],
   "source": [
    "keys = ['Total Household Income'] + expenditures_data\n",
    "interact(bar_chart_regional_average, data=fixed(data), key=keys)\n"
   ]
  },
  {
   "cell_type": "markdown",
   "metadata": {},
   "source": [
    "NCR has the highest average total household income and average total household expenditures. Meanwhile, ARMM had the lowest total household income but not the lowest total household expenditures which is held by Region X - Northern Mindanao.\n",
    "\n",
    "It would be interesting to see how income and the various expenditures correlate. Lower income households tend to consume more staple foods such as rice, grains, and bread, while middle class individuals allocate a higher proportion of their income to meat and vegetables.\n",
    "\n",
    "To see these correlations, we utilize scatter plots"
   ]
  },
  {
   "cell_type": "code",
   "execution_count": 8,
   "metadata": {},
   "outputs": [
    {
     "data": {
      "application/vnd.jupyter.widget-view+json": {
       "model_id": "2d3d5ddfbfaa4619bf9978fdd2383ca4",
       "version_major": 2,
       "version_minor": 0
      },
      "text/plain": [
       "interactive(children=(Dropdown(description='key', options=('Total Food Expenditure', 'Bread and Cereals Expend…"
      ]
     },
     "metadata": {},
     "output_type": "display_data"
    },
    {
     "data": {
      "text/plain": [
       "<function regional_utils.regional_average_dependence(data, key)>"
      ]
     },
     "execution_count": 8,
     "metadata": {},
     "output_type": "execute_result"
    }
   ],
   "source": [
    "from regional_utils import regional_average_dependence\n",
    "interact(regional_average_dependence, data=fixed(data), key=expenditures_data)"
   ]
  },
  {
   "cell_type": "markdown",
   "metadata": {},
   "source": [
    "# Choropleth map"
   ]
  },
  {
   "cell_type": "code",
   "execution_count": 9,
   "metadata": {},
   "outputs": [],
   "source": [
    "import geopandas as gpd\n",
    "from regional_utils import get_string_inside_parenthesis, make_map_text"
   ]
  },
  {
   "cell_type": "code",
   "execution_count": 10,
   "metadata": {},
   "outputs": [],
   "source": [
    "regions = gpd.GeoDataFrame.from_file('map/ph-regions-2015.shp')\n",
    "regions.REGION = regions.REGION.apply(get_string_inside_parenthesis)\n",
    "\n",
    "psgg_code = pd.read_csv('map/psgg_codes.csv', dtype=object)\n",
    "map_names = psgg_code.loc[:, ['psgg_code', 'region']]\n",
    "map_names['region'] = map_names['region'].apply(lambda x: make_map_text(x))\n",
    "map_names.set_index('psgg_code', inplace=True, drop=True)\n",
    "expenditures_income_data = expenditures_data.append('Total Household Income')\n",
    "\n",
    "# Removing NIR in the regions shapes\n",
    "regions_clean = regions.drop(regions.index[-1]) # Drop the last row\n",
    "regional_averages = data.groupby(\"Region\")[expenditures_data].mean().reset_index()\n",
    "\n",
    "regional_averages[\"Region\"] = [entry.split()[0] for entry in regional_averages[\"Region\"]] # Representing the regions with numbers\n",
    "regional_averages.loc[6, \"Region\"] = \"IV-A\" # Match the entry in regions_clean\n",
    "regional_averages.loc[7, \"Region\"] = \"IV-B\" # match the entry in regions_clean\n",
    "regional_averages.loc[2, \"Region\"] = \"XIII\" # match the entry in regions_clean\n",
    "\n",
    "# Adding regional averages to the regions_clean dataframe\n",
    "merged_df = pd.merge(regions_clean, regional_averages, left_on='REGION', right_on='Region', how='left')\n",
    "region_order = merged_df['Region']"
   ]
  },
  {
   "cell_type": "code",
   "execution_count": 11,
   "metadata": {},
   "outputs": [],
   "source": [
    "def choropleth(merged_df, key):\n",
    "    plt.style.use('ggplot')\n",
    "    fig, ax = plt.subplots(figsize=(10, 10))\n",
    "\n",
    "    merged_df.plot(ax=ax, cmap='viridis', column =key, linewidth=1, legend=True)\n",
    "\n",
    "    for i, point in merged_df.iterrows():\n",
    "        point_centroid = point.geometry.centroid\n",
    "        reg_n = region_order[i]\n",
    "        ax.text(s=reg_n, x=point_centroid.x, y=point_centroid.y, fontsize='large')\n",
    "\n",
    "    ax.set_title('PH Administrative Regions (Present)', fontfamily='helvetica', fontsize=20)\n",
    "    ax.set_axis_off()\n"
   ]
  },
  {
   "cell_type": "code",
   "execution_count": 12,
   "metadata": {},
   "outputs": [
    {
     "data": {
      "application/vnd.jupyter.widget-view+json": {
       "model_id": "ae8b282e441e4240a4c42d6ebf35625b",
       "version_major": 2,
       "version_minor": 0
      },
      "text/plain": [
       "interactive(children=(Dropdown(description='key', options=('Total Food Expenditure', 'Bread and Cereals Expend…"
      ]
     },
     "metadata": {},
     "output_type": "display_data"
    },
    {
     "data": {
      "text/plain": [
       "<function __main__.choropleth(merged_df, key)>"
      ]
     },
     "execution_count": 12,
     "metadata": {},
     "output_type": "execute_result"
    }
   ],
   "source": [
    "interact(choropleth, merged_df=fixed(merged_df), key=expenditures_data)"
   ]
  }
 ],
 "metadata": {
  "kernelspec": {
   "display_name": "base",
   "language": "python",
   "name": "python3"
  },
  "language_info": {
   "codemirror_mode": {
    "name": "ipython",
    "version": 3
   },
   "file_extension": ".py",
   "mimetype": "text/x-python",
   "name": "python",
   "nbconvert_exporter": "python",
   "pygments_lexer": "ipython3",
   "version": "3.9.7"
  },
  "orig_nbformat": 4
 },
 "nbformat": 4,
 "nbformat_minor": 2
}
