{
 "cells": [
  {
   "cell_type": "markdown",
   "metadata": {},
   "source": [
    "# Filipino Family Income and Expenditure: Regional Average\n"
   ]
  },
  {
   "cell_type": "markdown",
   "metadata": {},
   "source": [
    "# 1. Import Python packages"
   ]
  },
  {
   "cell_type": "code",
   "execution_count": 2,
   "metadata": {},
   "outputs": [],
   "source": [
    "import pandas as pd\n",
    "import matplotlib.pyplot as plt\n",
    "import re"
   ]
  },
  {
   "cell_type": "markdown",
   "metadata": {},
   "source": [
    "# 2. Loading and Categorizing the Dataset"
   ]
  },
  {
   "cell_type": "code",
   "execution_count": 3,
   "metadata": {},
   "outputs": [],
   "source": [
    "data = pd.read_csv('Family Income and Expenditure.csv')"
   ]
  },
  {
   "cell_type": "markdown",
   "metadata": {},
   "source": [
    "Categorizing the data into: expenditures, income, household head data, number of appliances, property data, and family composition"
   ]
  },
  {
   "cell_type": "code",
   "execution_count": 5,
   "metadata": {},
   "outputs": [
    {
     "name": "stdout",
     "output_type": "stream",
     "text": [
      "['Region']\n"
     ]
    }
   ],
   "source": [
    "from data_utils import _expenditures_data, _income_data, _householdhead_data, _appliances_data, _property_information, _family_composition\n",
    "\n",
    "expenditures_data = _expenditures_data(data)\n",
    "income_data = _income_data(data)\n",
    "householdhead_data = _householdhead_data(data)\n",
    "appliances_data = _appliances_data(data)\n",
    "property_data = _property_information(data)\n",
    "family_composition_data = _family_composition(data)\n",
    "\n",
    "# Checking if all of the columns have been categorized \n",
    "collection = expenditures_data +  income_data + appliances_data +  householdhead_data + family_composition_data +  property_data\n",
    "missing = [element for element in data.columns if element not in collection]\n",
    "print(missing)\n"
   ]
  },
  {
   "cell_type": "code",
   "execution_count": null,
   "metadata": {},
   "outputs": [],
   "source": []
  },
  {
   "cell_type": "markdown",
   "metadata": {},
   "source": [
    "# 3. Exploring the Dataset: Regional Averages\n",
    "\n",
    "In this section, we will perform data grouping based on regions. Grouping the data per region allows us to explore regional disparities, identify unique economic conditions, and understand how family income and expenditures vary across different parts of the country. We seek to answer the following questions:\n",
    "\n",
    "1. What are the regions with the highest and lowest average family income?\n",
    "2. How do family expenditures differ across regions?\n",
    "3. What are the major expense categories for families in different regions?\n",
    "4. Is there a correlation between family income and certain types of expenditures?\n",
    "5. Are there any significant outliers in the data that indicate unique economic conditions in certain regions?"
   ]
  },
  {
   "cell_type": "code",
   "execution_count": 6,
   "metadata": {},
   "outputs": [
    {
     "name": "stderr",
     "output_type": "stream",
     "text": [
      "c:\\Anaconda3\\lib\\site-packages\\fuzzywuzzy\\fuzz.py:11: UserWarning: Using slow pure-python SequenceMatcher. Install python-Levenshtein to remove this warning\n",
      "  warnings.warn('Using slow pure-python SequenceMatcher. Install python-Levenshtein to remove this warning')\n"
     ]
    }
   ],
   "source": [
    "from ipywidgets import interact, fixed\n",
    "from regional_utils import bar_chart_regional_average"
   ]
  },
  {
   "cell_type": "markdown",
   "metadata": {},
   "source": [
    "## 3.1 \n",
    "\n",
    "We will first visualize the total household income and various expenditures per region. The lowest and highest values are denoted by red and green, respectively. "
   ]
  },
  {
   "cell_type": "code",
   "execution_count": 7,
   "metadata": {},
   "outputs": [
    {
     "data": {
      "application/vnd.jupyter.widget-view+json": {
       "model_id": "36bb8027064e4cb6b107ae229fc21a81",
       "version_major": 2,
       "version_minor": 0
      },
      "text/plain": [
       "interactive(children=(Dropdown(description='key', options=('Total Household Income', 'Total Food Expenditure',…"
      ]
     },
     "metadata": {},
     "output_type": "display_data"
    },
    {
     "data": {
      "text/plain": [
       "<function regional_utils.bar_chart_regional_average(data, key: list)>"
      ]
     },
     "execution_count": 7,
     "metadata": {},
     "output_type": "execute_result"
    }
   ],
   "source": [
    "keys = ['Total Household Income'] + expenditures_data\n",
    "interact(bar_chart_regional_average, data=fixed(data), key=keys)\n"
   ]
  },
  {
   "cell_type": "code",
   "execution_count": 11,
   "metadata": {},
   "outputs": [],
   "source": [
    "def region_with_max_value(data, key):\n",
    "    \"\"\"Return the region with the highest average value for the given data column.\"\"\"\n",
    "    regional_averages_data = data.groupby(\"Region\").mean()\n",
    "    print(f'The region with the highest average {key} is {regional_averages_data[key].idxmax()}')\n",
    "    return regional_averages_data[key].idxmax()\n",
    "\n",
    "\n",
    "def region_with_min_value(data, key):\n",
    "    \"\"\"Return the region with the lowest average value for the given data column.\"\"\"\n",
    "    regional_averages_data = data.groupby(\"Region\").mean()\n",
    "    print(f'The region with the lowest average {key} is {regional_averages_data[key].idxmin()}')\n",
    "    return regional_averages_data[key].idxmin()"
   ]
  },
  {
   "cell_type": "code",
   "execution_count": null,
   "metadata": {},
   "outputs": [],
   "source": [
    "for key in "
   ]
  },
  {
   "cell_type": "markdown",
   "metadata": {},
   "source": [
    "NCR has the highest average total household income and average total food expenditures.\n",
    "\n",
    "\n",
    "Meanwhile, ARMM had the lowest total household income but not the lowest total household expenditures which is held by Region X - Northern Mindanao.\n",
    "\n",
    "It would be interesting to see how income and the various expenditures correlate. According to, lower income households tend to consume more staple foods such as rice, grains, and bread, while middle class individuals allocate a higher proportion of their income to meat and vegetables."
   ]
  },
  {
   "cell_type": "code",
   "execution_count": 8,
   "metadata": {},
   "outputs": [
    {
     "data": {
      "application/vnd.jupyter.widget-view+json": {
       "model_id": "5d8c265014484aa5bf20bffd408ef127",
       "version_major": 2,
       "version_minor": 0
      },
      "text/plain": [
       "interactive(children=(Dropdown(description='key', options=('Total Food Expenditure', 'Bread and Cereals Expend…"
      ]
     },
     "metadata": {},
     "output_type": "display_data"
    },
    {
     "data": {
      "text/plain": [
       "<function regional_utils.regional_average_dependence(data, key)>"
      ]
     },
     "execution_count": 8,
     "metadata": {},
     "output_type": "execute_result"
    }
   ],
   "source": [
    "from regional_utils import regional_average_dependence\n",
    "interact(regional_average_dependence, data=fixed(data), key=expenditures_data)"
   ]
  },
  {
   "cell_type": "markdown",
   "metadata": {},
   "source": [
    "# Choropleth map"
   ]
  },
  {
   "cell_type": "code",
   "execution_count": 7,
   "metadata": {},
   "outputs": [],
   "source": [
    "import geopandas as gpd\n",
    "from regional_utils import get_string_inside_parenthesis, make_map_text"
   ]
  },
  {
   "cell_type": "code",
   "execution_count": 8,
   "metadata": {},
   "outputs": [],
   "source": [
    "regions = gpd.GeoDataFrame.from_file('map/ph-regions-2015.shp')\n",
    "regions.REGION = regions.REGION.apply(get_string_inside_parenthesis)\n",
    "\n",
    "psgg_code = pd.read_csv('map/psgg_codes.csv', dtype=object)\n",
    "map_names = psgg_code.loc[:, ['psgg_code', 'region']]\n",
    "map_names['region'] = map_names['region'].apply(lambda x: make_map_text(x))\n",
    "map_names.set_index('psgg_code', inplace=True, drop=True)\n",
    "expenditures_income_data = expenditures_data.append('Total Household Income')\n",
    "\n",
    "# Removing NIR in the regions shapes\n",
    "regions_clean = regions.drop(regions.index[-1]) # Drop the last row\n",
    "regional_averages = data.groupby(\"Region\")[expenditures_data].mean().reset_index()\n",
    "\n",
    "regional_averages[\"Region\"] = [entry.split()[0] for entry in regional_averages[\"Region\"]] # Representing the regions with numbers\n",
    "regional_averages.loc[6, \"Region\"] = \"IV-A\" # Match the entry in regions_clean\n",
    "regional_averages.loc[7, \"Region\"] = \"IV-B\" # match the entry in regions_clean\n",
    "regional_averages.loc[2, \"Region\"] = \"XIII\" # match the entry in regions_clean\n",
    "\n",
    "# Adding regional averages to the regions_clean dataframe\n",
    "merged_df = pd.merge(regions_clean, regional_averages, left_on='REGION', right_on='Region', how='left')\n",
    "region_order = merged_df['Region']"
   ]
  },
  {
   "cell_type": "code",
   "execution_count": 9,
   "metadata": {},
   "outputs": [],
   "source": [
    "def choropleth(merged_df, key):\n",
    "    plt.style.use('ggplot')\n",
    "    fig, ax = plt.subplots(figsize=(10, 10))\n",
    "\n",
    "    merged_df.plot(ax=ax, cmap='viridis', column =key, linewidth=1, legend=True)\n",
    "\n",
    "    for i, point in merged_df.iterrows():\n",
    "        point_centroid = point.geometry.centroid\n",
    "        reg_n = region_order[i]\n",
    "        ax.text(s=reg_n, x=point_centroid.x, y=point_centroid.y, fontsize='large')\n",
    "\n",
    "    ax.set_title('PH Administrative Regions (Present)', fontfamily='helvetica', fontsize=20)\n",
    "    ax.set_axis_off()\n"
   ]
  },
  {
   "cell_type": "code",
   "execution_count": 10,
   "metadata": {},
   "outputs": [
    {
     "data": {
      "application/vnd.jupyter.widget-view+json": {
       "model_id": "e681c17f0c134cb89bb40d072c8e8664",
       "version_major": 2,
       "version_minor": 0
      },
      "text/plain": [
       "interactive(children=(Dropdown(description='key', options=('Total Food Expenditure', 'Bread and Cereals Expend…"
      ]
     },
     "metadata": {},
     "output_type": "display_data"
    },
    {
     "data": {
      "text/plain": [
       "<function __main__.choropleth(merged_df, key)>"
      ]
     },
     "execution_count": 10,
     "metadata": {},
     "output_type": "execute_result"
    }
   ],
   "source": [
    "interact(choropleth, merged_df=fixed(merged_df), key=expenditures_data)"
   ]
  },
  {
   "cell_type": "code",
   "execution_count": null,
   "metadata": {},
   "outputs": [],
   "source": []
  }
 ],
 "metadata": {
  "kernelspec": {
   "display_name": "base",
   "language": "python",
   "name": "python3"
  },
  "language_info": {
   "codemirror_mode": {
    "name": "ipython",
    "version": 3
   },
   "file_extension": ".py",
   "mimetype": "text/x-python",
   "name": "python",
   "nbconvert_exporter": "python",
   "pygments_lexer": "ipython3",
   "version": "3.9.7"
  },
  "orig_nbformat": 4
 },
 "nbformat": 4,
 "nbformat_minor": 2
}
