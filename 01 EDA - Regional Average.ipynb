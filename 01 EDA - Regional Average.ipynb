{
 "cells": [
  {
   "cell_type": "markdown",
   "metadata": {},
   "source": [
    "# Filipino Family Income and Expenditure: Regional Average\n",
    "\n",
    "In this section, we will perform data grouping based on regions. Grouping the data per region allows us to explore regional disparities, identify unique economic conditions, and understand how family income and expenditures vary across different parts of the country. "
   ]
  },
  {
   "cell_type": "markdown",
   "metadata": {},
   "source": [
    "# 1. Import Python packages"
   ]
  },
  {
   "cell_type": "code",
   "execution_count": 1,
   "metadata": {},
   "outputs": [],
   "source": [
    "import pandas as pd\n",
    "import matplotlib.pyplot as plt\n",
    "import re"
   ]
  },
  {
   "cell_type": "markdown",
   "metadata": {},
   "source": [
    "# 2. Loading and Categorizing the Dataset"
   ]
  },
  {
   "cell_type": "code",
   "execution_count": 2,
   "metadata": {},
   "outputs": [],
   "source": [
    "data = pd.read_csv('Family Income and Expenditure.csv')"
   ]
  },
  {
   "cell_type": "markdown",
   "metadata": {},
   "source": [
    "Removing the outliers in the dataset based on the z-scores of the total household income."
   ]
  },
  {
   "cell_type": "code",
   "execution_count": 4,
   "metadata": {},
   "outputs": [],
   "source": [
    "from data_utils import _remove_income_outlier\n",
    "data = _remove_income_outlier(data)"
   ]
  },
  {
   "cell_type": "markdown",
   "metadata": {},
   "source": [
    "Categorizing the data into: expenditures, income, household head data, number of appliances, property data, and family composition"
   ]
  },
  {
   "cell_type": "code",
   "execution_count": 5,
   "metadata": {},
   "outputs": [
    {
     "name": "stdout",
     "output_type": "stream",
     "text": [
      "['Region']\n"
     ]
    }
   ],
   "source": [
    "from data_utils import _expenditures_data, _income_data, _householdhead_data, _appliances_data, _property_information, _family_composition\n",
    "\n",
    "expenditures_data = _expenditures_data(data)\n",
    "income_data = _income_data(data)\n",
    "householdhead_data = _householdhead_data(data)\n",
    "appliances_data = _appliances_data(data)\n",
    "property_data = _property_information(data)\n",
    "family_composition_data = _family_composition(data)\n",
    "\n",
    "# Checking if all of the columns have been categorized \n",
    "collection = expenditures_data +  income_data + appliances_data +  householdhead_data + family_composition_data +  property_data\n",
    "missing = [element for element in data.columns if element not in collection]\n",
    "print(missing)\n"
   ]
  },
  {
   "cell_type": "markdown",
   "metadata": {},
   "source": [
    "# 3. Income and Expenditures\n",
    "\n",
    "We seek to answer the following questions:\n",
    "\n",
    "1. What are the regions with the highest and lowest average family income?\n",
    "2. How do family expenditures differ across regions?\n",
    "3. What are the major expense categories for families in different regions?\n",
    "4. Is there a correlation between family income and certain types of expenditures?\n",
    "5. Are there any significant outliers in the data that indicate unique economic conditions in certain regions?"
   ]
  },
  {
   "cell_type": "code",
   "execution_count": 6,
   "metadata": {},
   "outputs": [
    {
     "name": "stderr",
     "output_type": "stream",
     "text": [
      "c:\\Anaconda3\\lib\\site-packages\\fuzzywuzzy\\fuzz.py:11: UserWarning: Using slow pure-python SequenceMatcher. Install python-Levenshtein to remove this warning\n",
      "  warnings.warn('Using slow pure-python SequenceMatcher. Install python-Levenshtein to remove this warning')\n"
     ]
    }
   ],
   "source": [
    "from ipywidgets import interact, fixed\n",
    "from regional_utils import bar_chart_regional_average, create_dataframe_min_max, stacked_bar"
   ]
  },
  {
   "cell_type": "markdown",
   "metadata": {},
   "source": [
    "## 3.1 Visualizing expenditures per region using bar charts\n",
    "\n",
    "We will first visualize the total household income and various expenditures per region using bar charts. The dropdown menu can be used to select a certain expenditure. The regions with lowest and highest values are denoted by red and green, respectively. \n",
    "\n"
   ]
  },
  {
   "cell_type": "code",
   "execution_count": 7,
   "metadata": {},
   "outputs": [
    {
     "data": {
      "application/vnd.jupyter.widget-view+json": {
       "model_id": "95336756d047495e9c08e6c834eb47d4",
       "version_major": 2,
       "version_minor": 0
      },
      "text/plain": [
       "interactive(children=(Dropdown(description='key', options=('Total Household Income', 'Total Food Expenditure',…"
      ]
     },
     "metadata": {},
     "output_type": "display_data"
    },
    {
     "data": {
      "text/plain": [
       "<function regional_utils.bar_chart_regional_average(data, key: str)>"
      ]
     },
     "execution_count": 7,
     "metadata": {},
     "output_type": "execute_result"
    }
   ],
   "source": [
    "keys = ['Total Household Income'] + expenditures_data\n",
    "interact(bar_chart_regional_average, data=fixed(data), key=keys, average=True)\n"
   ]
  },
  {
   "cell_type": "code",
   "execution_count": 8,
   "metadata": {},
   "outputs": [
    {
     "data": {
      "text/html": [
       "<div>\n",
       "<style scoped>\n",
       "    .dataframe tbody tr th:only-of-type {\n",
       "        vertical-align: middle;\n",
       "    }\n",
       "\n",
       "    .dataframe tbody tr th {\n",
       "        vertical-align: top;\n",
       "    }\n",
       "\n",
       "    .dataframe thead th {\n",
       "        text-align: right;\n",
       "    }\n",
       "</style>\n",
       "<table border=\"1\" class=\"dataframe\">\n",
       "  <thead>\n",
       "    <tr style=\"text-align: right;\">\n",
       "      <th></th>\n",
       "      <th>Total Household Income</th>\n",
       "      <th>Total Food Expenditure</th>\n",
       "      <th>Bread and Cereals Expenditure</th>\n",
       "      <th>Total Rice Expenditure</th>\n",
       "      <th>Meat Expenditure</th>\n",
       "      <th>Total Fish and  marine products Expenditure</th>\n",
       "      <th>Fruit Expenditure</th>\n",
       "      <th>Vegetables Expenditure</th>\n",
       "      <th>Restaurant and hotels Expenditure</th>\n",
       "      <th>Alcoholic Beverages Expenditure</th>\n",
       "      <th>Tobacco Expenditure</th>\n",
       "      <th>Clothing, Footwear and Other Wear Expenditure</th>\n",
       "      <th>Housing and water Expenditure</th>\n",
       "      <th>Medical Care Expenditure</th>\n",
       "      <th>Transportation Expenditure</th>\n",
       "      <th>Communication Expenditure</th>\n",
       "      <th>Education Expenditure</th>\n",
       "      <th>Miscellaneous Goods and Services Expenditure</th>\n",
       "      <th>Special Occasions Expenditure</th>\n",
       "      <th>Crop Farming and Gardening expenses</th>\n",
       "    </tr>\n",
       "  </thead>\n",
       "  <tbody>\n",
       "    <tr>\n",
       "      <th>0</th>\n",
       "      <td>NCR</td>\n",
       "      <td>NCR</td>\n",
       "      <td>CAR</td>\n",
       "      <td>VIII - Eastern Visayas</td>\n",
       "      <td>NCR</td>\n",
       "      <td>ARMM</td>\n",
       "      <td>NCR</td>\n",
       "      <td>CAR</td>\n",
       "      <td>NCR</td>\n",
       "      <td>II - Cagayan Valley</td>\n",
       "      <td>III - Central Luzon</td>\n",
       "      <td>NCR</td>\n",
       "      <td>NCR</td>\n",
       "      <td>IVA - CALABARZON</td>\n",
       "      <td>NCR</td>\n",
       "      <td>NCR</td>\n",
       "      <td>NCR</td>\n",
       "      <td>NCR</td>\n",
       "      <td>IVA - CALABARZON</td>\n",
       "      <td>ARMM</td>\n",
       "    </tr>\n",
       "    <tr>\n",
       "      <th>1</th>\n",
       "      <td>ARMM</td>\n",
       "      <td>X - Northern Mindanao</td>\n",
       "      <td>II - Cagayan Valley</td>\n",
       "      <td>IX - Zasmboanga Peninsula</td>\n",
       "      <td>ARMM</td>\n",
       "      <td>X - Northern Mindanao</td>\n",
       "      <td>X - Northern Mindanao</td>\n",
       "      <td>X - Northern Mindanao</td>\n",
       "      <td>ARMM</td>\n",
       "      <td>ARMM</td>\n",
       "      <td>CAR</td>\n",
       "      <td>ARMM</td>\n",
       "      <td>ARMM</td>\n",
       "      <td>ARMM</td>\n",
       "      <td>ARMM</td>\n",
       "      <td>ARMM</td>\n",
       "      <td>ARMM</td>\n",
       "      <td>ARMM</td>\n",
       "      <td>ARMM</td>\n",
       "      <td>NCR</td>\n",
       "    </tr>\n",
       "  </tbody>\n",
       "</table>\n",
       "</div>"
      ],
      "text/plain": [
       "  Total Household Income Total Food Expenditure Bread and Cereals Expenditure  \\\n",
       "0                    NCR                    NCR                           CAR   \n",
       "1                   ARMM  X - Northern Mindanao           II - Cagayan Valley   \n",
       "\n",
       "      Total Rice Expenditure Meat Expenditure  \\\n",
       "0     VIII - Eastern Visayas              NCR   \n",
       "1  IX - Zasmboanga Peninsula             ARMM   \n",
       "\n",
       "  Total Fish and  marine products Expenditure      Fruit Expenditure  \\\n",
       "0                                        ARMM                    NCR   \n",
       "1                       X - Northern Mindanao  X - Northern Mindanao   \n",
       "\n",
       "  Vegetables Expenditure Restaurant and hotels Expenditure  \\\n",
       "0                    CAR                               NCR   \n",
       "1  X - Northern Mindanao                              ARMM   \n",
       "\n",
       "  Alcoholic Beverages Expenditure  Tobacco Expenditure  \\\n",
       "0             II - Cagayan Valley  III - Central Luzon   \n",
       "1                            ARMM                  CAR   \n",
       "\n",
       "  Clothing, Footwear and Other Wear Expenditure Housing and water Expenditure  \\\n",
       "0                                           NCR                           NCR   \n",
       "1                                          ARMM                          ARMM   \n",
       "\n",
       "  Medical Care Expenditure Transportation Expenditure  \\\n",
       "0         IVA - CALABARZON                        NCR   \n",
       "1                     ARMM                       ARMM   \n",
       "\n",
       "  Communication Expenditure Education Expenditure  \\\n",
       "0                       NCR                   NCR   \n",
       "1                      ARMM                  ARMM   \n",
       "\n",
       "  Miscellaneous Goods and Services Expenditure Special Occasions Expenditure  \\\n",
       "0                                          NCR              IVA - CALABARZON   \n",
       "1                                         ARMM                          ARMM   \n",
       "\n",
       "  Crop Farming and Gardening expenses  \n",
       "0                                ARMM  \n",
       "1                                 NCR  "
      ]
     },
     "execution_count": 8,
     "metadata": {},
     "output_type": "execute_result"
    }
   ],
   "source": [
    "# Summary of regional average icome and expenditures, showing the region with the highest (0) and lowest (1) average income and expenditures.\n",
    "max_min_dataframe = create_dataframe_min_max(data, keys)\n",
    "max_min_dataframe"
   ]
  },
  {
   "cell_type": "markdown",
   "metadata": {},
   "source": [
    "NCR has the highest average household income and food expenditures. The region also has the highest expenditures in meat, fruits, restaurant and hotels, clothing, housing and water, transportation, communication, education, and miscellaneous goods and services. Meanwhile, it had the lowest expenditures for crop farming and gardening.\n",
    "\n",
    "* As the country's economic and political center, there are more lucrative job opportunities not available in other regions. The availability of opportunities brings more people to the region, resulting in higher demand for housing, consequently raising the costs.\n",
    "* Similar to housing, other basic necessities such as food are more expensive in the region due to the increased demand. This may also be explained by more expensive food preferences of the residents, i.e. having higher meat and fruits expenditures, which tend to be more expensive than food staples such as bread, cereals, and rice.\n",
    "* Having the highest expenditures on restaurants and hotels and miscellaneous goods and services may be explained by the availability of such establishments in the region (being highly urbanized) and the expectantly higher disposable income of the residents from having higher income. Furthermore, the urban lifestyle (which gets really busy) may also result in more frequent dining out.\n",
    "* Communication expenditures may be explained by the increased demand for connectivity, i.e. work, school, socialization, and the availability of high-end services, such as faster and more expensive internet plans.\n",
    "* Clothing expenditures may be explained by the urban lifestyle, e.g. keeping up with the trends from social media, occupations that require more \"professional\" attire.\n",
    "* Transportation expenditures in NCR could be explained by long commutes to work/school using various transportation modes such as buses, trains, jeepneys, and taxis. Although NCR is considered highly urbanized, work and school can be in a city different from one's residence. For instance, Malabon is a city in NCR also considered as highly urbanized, with a lot of job opportunities, but some residents still have a preference for jobs/universities in QC, Manila, Makati, etc., because the jobs are usually blue collar, contractual, or \"arawan\", while schools are limited to community colleges.\n",
    "* The region has the lowest expenditures in crop farming and gardening, which is expected from being highly urbanized with limited space for agriculture.\n",
    "\n",
    "Meanwhile, CALABARZON has the highest medical care and special occasions expenditures, CAR for bread and cereals, Eastern Visayas for rice, ARMM for fish and marine and crop farming and gardening, Cagayan Valley for alcoholic beverages, and Central Luzon for tobacco."
   ]
  },
  {
   "cell_type": "markdown",
   "metadata": {},
   "source": [
    "## 3.2 Visualizing the relation between income and expenditures using scatter plot"
   ]
  },
  {
   "cell_type": "code",
   "execution_count": 9,
   "metadata": {},
   "outputs": [
    {
     "data": {
      "application/vnd.jupyter.widget-view+json": {
       "model_id": "b95f9b11ccbb48b7adf9fd73c40b222c",
       "version_major": 2,
       "version_minor": 0
      },
      "text/plain": [
       "interactive(children=(Dropdown(description='key', options=('Total Food Expenditure', 'Bread and Cereals Expend…"
      ]
     },
     "metadata": {},
     "output_type": "display_data"
    },
    {
     "data": {
      "text/plain": [
       "<function regional_utils.regional_average_dependence(data, key)>"
      ]
     },
     "execution_count": 9,
     "metadata": {},
     "output_type": "execute_result"
    }
   ],
   "source": [
    "from regional_utils import regional_average_dependence, create_dataframe_r_squared\n",
    "interact(regional_average_dependence, data=fixed(data), key=expenditures_data)"
   ]
  },
  {
   "cell_type": "code",
   "execution_count": 10,
   "metadata": {},
   "outputs": [
    {
     "data": {
      "text/html": [
       "<div>\n",
       "<style scoped>\n",
       "    .dataframe tbody tr th:only-of-type {\n",
       "        vertical-align: middle;\n",
       "    }\n",
       "\n",
       "    .dataframe tbody tr th {\n",
       "        vertical-align: top;\n",
       "    }\n",
       "\n",
       "    .dataframe thead th {\n",
       "        text-align: right;\n",
       "    }\n",
       "</style>\n",
       "<table border=\"1\" class=\"dataframe\">\n",
       "  <thead>\n",
       "    <tr style=\"text-align: right;\">\n",
       "      <th></th>\n",
       "      <th>Total Food Expenditure</th>\n",
       "      <th>Bread and Cereals Expenditure</th>\n",
       "      <th>Total Rice Expenditure</th>\n",
       "      <th>Meat Expenditure</th>\n",
       "      <th>Total Fish and  marine products Expenditure</th>\n",
       "      <th>Fruit Expenditure</th>\n",
       "      <th>Vegetables Expenditure</th>\n",
       "      <th>Restaurant and hotels Expenditure</th>\n",
       "      <th>Alcoholic Beverages Expenditure</th>\n",
       "      <th>Tobacco Expenditure</th>\n",
       "      <th>Clothing, Footwear and Other Wear Expenditure</th>\n",
       "      <th>Housing and water Expenditure</th>\n",
       "      <th>Medical Care Expenditure</th>\n",
       "      <th>Transportation Expenditure</th>\n",
       "      <th>Communication Expenditure</th>\n",
       "      <th>Education Expenditure</th>\n",
       "      <th>Miscellaneous Goods and Services Expenditure</th>\n",
       "      <th>Special Occasions Expenditure</th>\n",
       "      <th>Crop Farming and Gardening expenses</th>\n",
       "    </tr>\n",
       "  </thead>\n",
       "  <tbody>\n",
       "    <tr>\n",
       "      <th>0</th>\n",
       "      <td>0.859357</td>\n",
       "      <td>0.085705</td>\n",
       "      <td>0.152314</td>\n",
       "      <td>0.857656</td>\n",
       "      <td>0.006752</td>\n",
       "      <td>0.307691</td>\n",
       "      <td>0.206828</td>\n",
       "      <td>0.85344</td>\n",
       "      <td>0.205927</td>\n",
       "      <td>0.247423</td>\n",
       "      <td>0.764454</td>\n",
       "      <td>0.924941</td>\n",
       "      <td>0.670791</td>\n",
       "      <td>0.889566</td>\n",
       "      <td>0.940686</td>\n",
       "      <td>0.745108</td>\n",
       "      <td>0.918358</td>\n",
       "      <td>0.242606</td>\n",
       "      <td>0.197086</td>\n",
       "    </tr>\n",
       "  </tbody>\n",
       "</table>\n",
       "</div>"
      ],
      "text/plain": [
       "   Total Food Expenditure  Bread and Cereals Expenditure  \\\n",
       "0                0.859357                       0.085705   \n",
       "\n",
       "   Total Rice Expenditure  Meat Expenditure  \\\n",
       "0                0.152314          0.857656   \n",
       "\n",
       "   Total Fish and  marine products Expenditure  Fruit Expenditure  \\\n",
       "0                                     0.006752           0.307691   \n",
       "\n",
       "   Vegetables Expenditure  Restaurant and hotels Expenditure  \\\n",
       "0                0.206828                            0.85344   \n",
       "\n",
       "   Alcoholic Beverages Expenditure  Tobacco Expenditure  \\\n",
       "0                         0.205927             0.247423   \n",
       "\n",
       "   Clothing, Footwear and Other Wear Expenditure  \\\n",
       "0                                       0.764454   \n",
       "\n",
       "   Housing and water Expenditure  Medical Care Expenditure  \\\n",
       "0                       0.924941                  0.670791   \n",
       "\n",
       "   Transportation Expenditure  Communication Expenditure  \\\n",
       "0                    0.889566                   0.940686   \n",
       "\n",
       "   Education Expenditure  Miscellaneous Goods and Services Expenditure  \\\n",
       "0               0.745108                                      0.918358   \n",
       "\n",
       "   Special Occasions Expenditure  Crop Farming and Gardening expenses  \n",
       "0                       0.242606                             0.197086  "
      ]
     },
     "execution_count": 10,
     "metadata": {},
     "output_type": "execute_result"
    }
   ],
   "source": [
    "create_dataframe_r_squared(data, expenditures_data)"
   ]
  },
  {
   "cell_type": "markdown",
   "metadata": {},
   "source": [
    "The five expenditures that show the strongest connection (correlation) with household income are: Communication Expenditure, Miscellaneous Goods and Services Expenditure, Housing and Water Expenditure, Transportation Expenditure, and Total Food Expenditure. This means that these are the expenses that tend to move together with changes in household income and will be important features when creating a predictive model later on. These correlations are congruent to the data describing which regions have the highest expenditure for each category, i.e. NCR having the highest income also has the highest expenditures in the top 5 strongly-correlated expenditures."
   ]
  },
  {
   "cell_type": "markdown",
   "metadata": {},
   "source": [
    "## 3.3 Visualizing the differences in income and expenditure through a choropleth map"
   ]
  },
  {
   "cell_type": "code",
   "execution_count": 15,
   "metadata": {},
   "outputs": [],
   "source": [
    "from regional_utils import load_regions_geodataframe, regional_averages_name_clean, choropleth"
   ]
  },
  {
   "cell_type": "code",
   "execution_count": 16,
   "metadata": {},
   "outputs": [],
   "source": [
    "regions_gdf_clean = load_regions_geodataframe()\n",
    "regional_averages = regional_averages_name_clean(data, keys)"
   ]
  },
  {
   "cell_type": "code",
   "execution_count": 17,
   "metadata": {},
   "outputs": [],
   "source": [
    "# Adding regional averages to the regions_clean dataframe\n",
    "merged_df = pd.merge(regions_gdf_clean, regional_averages, left_on='REGION', right_on='Region', how='left')"
   ]
  },
  {
   "cell_type": "code",
   "execution_count": 18,
   "metadata": {},
   "outputs": [
    {
     "data": {
      "application/vnd.jupyter.widget-view+json": {
       "model_id": "ca98364baf184a7d841d3b9a708eafab",
       "version_major": 2,
       "version_minor": 0
      },
      "text/plain": [
       "interactive(children=(Dropdown(description='key', options=('Total Household Income', 'Total Food Expenditure',…"
      ]
     },
     "metadata": {},
     "output_type": "display_data"
    },
    {
     "data": {
      "text/plain": [
       "<function regional_utils.choropleth(merged_df, key)>"
      ]
     },
     "execution_count": 18,
     "metadata": {},
     "output_type": "execute_result"
    }
   ],
   "source": [
    "interact(choropleth, merged_df=fixed(merged_df), key=keys)"
   ]
  },
  {
   "cell_type": "markdown",
   "metadata": {},
   "source": [
    "The National Capital Region (NCR) had the brightest color for the total household income and the expenditures in which it had the highest values. For the income and most of the expenditures, there is a gradual spread of brightness from NCR which implies that NCR's economic prosperity influences its neighboring regions to some extent. The economic activity and opportunities in the capital appear to have a ripple effect, albeit diminishing, on the adjacent areas.\n",
    "\n",
    "This map also showcases the geographical features of the capital city of Manila, i.e. the natural harbor. This natural harbor has historically played a crucial role in the economic development of the National Capital Region. The presence of a well-positioned natural harbor in Manila has facilitated trade and commerce, making it a hub for maritime activities. This advantage has attracted businesses, industries, and investments to the region over time."
   ]
  },
  {
   "cell_type": "markdown",
   "metadata": {},
   "source": [
    "## 3.4 Main Sources of Income Per Region"
   ]
  },
  {
   "cell_type": "code",
   "execution_count": 15,
   "metadata": {},
   "outputs": [
    {
     "data": {
      "image/png": "[encoded data removed]",
      "text/plain": [
       "<Figure size 1440x720 with 1 Axes>"
      ]
     },
     "metadata": {},
     "output_type": "display_data"
    }
   ],
   "source": [
    "stacked_bar(data, 'Main Source of Income')"
   ]
  },
  {
   "cell_type": "markdown",
   "metadata": {},
   "source": [
    "## 3.5 Income from Entrepreneural Activities per Region"
   ]
  },
  {
   "cell_type": "code",
   "execution_count": 16,
   "metadata": {},
   "outputs": [
    {
     "data": {
      "image/png": "[encoded data removed]",
      "text/plain": [
       "<Figure size 1440x720 with 1 Axes>"
      ]
     },
     "metadata": {},
     "output_type": "display_data"
    }
   ],
   "source": [
    "bar_chart_regional_average(data, 'Total Income from Entrepreneurial Acitivites')"
   ]
  },
  {
   "cell_type": "markdown",
   "metadata": {},
   "source": [
    "In all of the regions, only ARMM relied mostly on entrepreneurial activites as their main source of income. The ARMM region, situated in the southern part of the Philippines, had encountered challenges such as underdeveloped infrastructure, limited access to quality education, and a history of conflict. These factors made it more difficult for traditional industries to thrive and led to a higher reliance on entrepreneurial endeavors."
   ]
  },
  {
   "cell_type": "markdown",
   "metadata": {},
   "source": [
    "# 4. Assets Data"
   ]
  },
  {
   "cell_type": "markdown",
   "metadata": {},
   "source": [
    "## 4.1 Property Information"
   ]
  },
  {
   "cell_type": "code",
   "execution_count": 19,
   "metadata": {},
   "outputs": [],
   "source": [
    "property_data_continuous = ['House Floor Area', 'House Age', 'Number of bedrooms', 'Imputed House Rental Value']\n",
    "property_data_discrete = [item for item in property_data if item not in property_data_continuous] "
   ]
  },
  {
   "cell_type": "code",
   "execution_count": 20,
   "metadata": {},
   "outputs": [
    {
     "data": {
      "application/vnd.jupyter.widget-view+json": {
       "model_id": "3b7cfeb2f16d4c1f8cd46c2721643388",
       "version_major": 2,
       "version_minor": 0
      },
      "text/plain": [
       "interactive(children=(Dropdown(description='key', options=('House Floor Area', 'House Age', 'Number of bedroom…"
      ]
     },
     "metadata": {},
     "output_type": "display_data"
    },
    {
     "data": {
      "text/plain": [
       "<function regional_utils.bar_chart_regional_average(data, key: str)>"
      ]
     },
     "execution_count": 20,
     "metadata": {},
     "output_type": "execute_result"
    }
   ],
   "source": [
    "# Plotting the continuous data\n",
    "interact(bar_chart_regional_average, data=fixed(data), key=property_data_continuous)"
   ]
  },
  {
   "cell_type": "code",
   "execution_count": 21,
   "metadata": {},
   "outputs": [
    {
     "data": {
      "text/html": [
       "<div>\n",
       "<style scoped>\n",
       "    .dataframe tbody tr th:only-of-type {\n",
       "        vertical-align: middle;\n",
       "    }\n",
       "\n",
       "    .dataframe tbody tr th {\n",
       "        vertical-align: top;\n",
       "    }\n",
       "\n",
       "    .dataframe thead th {\n",
       "        text-align: right;\n",
       "    }\n",
       "</style>\n",
       "<table border=\"1\" class=\"dataframe\">\n",
       "  <thead>\n",
       "    <tr style=\"text-align: right;\">\n",
       "      <th></th>\n",
       "      <th>House Floor Area</th>\n",
       "      <th>House Age</th>\n",
       "      <th>Number of bedrooms</th>\n",
       "      <th>Imputed House Rental Value</th>\n",
       "    </tr>\n",
       "  </thead>\n",
       "  <tbody>\n",
       "    <tr>\n",
       "      <th>0</th>\n",
       "      <td>CAR</td>\n",
       "      <td>NCR</td>\n",
       "      <td>CAR</td>\n",
       "      <td>NCR</td>\n",
       "    </tr>\n",
       "    <tr>\n",
       "      <th>1</th>\n",
       "      <td>XII - SOCCSKSARGEN</td>\n",
       "      <td>IX - Zasmboanga Peninsula</td>\n",
       "      <td>ARMM</td>\n",
       "      <td>ARMM</td>\n",
       "    </tr>\n",
       "  </tbody>\n",
       "</table>\n",
       "</div>"
      ],
      "text/plain": [
       "     House Floor Area                  House Age Number of bedrooms  \\\n",
       "0                 CAR                        NCR                CAR   \n",
       "1  XII - SOCCSKSARGEN  IX - Zasmboanga Peninsula               ARMM   \n",
       "\n",
       "  Imputed House Rental Value  \n",
       "0                        NCR  \n",
       "1                       ARMM  "
      ]
     },
     "execution_count": 21,
     "metadata": {},
     "output_type": "execute_result"
    }
   ],
   "source": [
    "create_dataframe_min_max(data, property_data_continuous)"
   ]
  },
  {
   "cell_type": "markdown",
   "metadata": {},
   "source": [
    "CAR has the highest average house floor area and number of bedrooms, while NCR has the average highest house age and imputed house rental value\n"
   ]
  },
  {
   "cell_type": "code",
   "execution_count": 22,
   "metadata": {},
   "outputs": [
    {
     "data": {
      "application/vnd.jupyter.widget-view+json": {
       "model_id": "e35993d4740147f996c6eda3cc8a1cdd",
       "version_major": 2,
       "version_minor": 0
      },
      "text/plain": [
       "interactive(children=(Dropdown(description='key', options=('Type of Building/House', 'Type of Roof', 'Type of …"
      ]
     },
     "metadata": {},
     "output_type": "display_data"
    },
    {
     "data": {
      "text/plain": [
       "<function regional_utils.stacked_bar(data, key)>"
      ]
     },
     "execution_count": 22,
     "metadata": {},
     "output_type": "execute_result"
    }
   ],
   "source": [
    "interact(stacked_bar, data=fixed(data), key=property_data_discrete)"
   ]
  },
  {
   "cell_type": "markdown",
   "metadata": {},
   "source": [
    "# 5. Household Head"
   ]
  },
  {
   "cell_type": "code",
   "execution_count": 22,
   "metadata": {},
   "outputs": [],
   "source": [
    "householdhead_data_discrete = householdhead_data[:]\n",
    "householdhead_data_discrete.remove('Household Head Age')"
   ]
  },
  {
   "cell_type": "code",
   "execution_count": 23,
   "metadata": {},
   "outputs": [
    {
     "data": {
      "image/png": "[encoded data removed]",
      "text/plain": [
       "<Figure size 1440x720 with 1 Axes>"
      ]
     },
     "metadata": {},
     "output_type": "display_data"
    }
   ],
   "source": [
    "bar_chart_regional_average(data, key='Household Head Age')"
   ]
  },
  {
   "cell_type": "code",
   "execution_count": 24,
   "metadata": {},
   "outputs": [
    {
     "data": {
      "text/plain": [
       "array(['Degree', 'Elementary', 'High School', 'College Undergrad',\n",
       "       'Post Secondary', 'Pre Elem', 'Post Baccalaureate'], dtype=object)"
      ]
     },
     "execution_count": 24,
     "metadata": {},
     "output_type": "execute_result"
    }
   ],
   "source": [
    "replacement_dict = {\n",
    "    '.*Programs$': 'Degree',\n",
    "    '^Grade.*|Elementary Graduate': 'Elementary',\n",
    "    '.*College$': 'College Undergrad',\n",
    "    '.*High School$|High School Graduate': 'High School',\n",
    "    '^Other Programs.*|.*Post Secondary$': 'Post Secondary',\n",
    "    'No Grade Completed|Preschool$': 'Pre Elem',\n",
    "}\n",
    "\n",
    "# Perform the replacements using regex\n",
    "data['Household Head Highest Grade Completed'] = data['Household Head Highest Grade Completed'].replace(replacement_dict, regex=True)\n",
    "data['Household Head Highest Grade Completed'].unique()"
   ]
  },
  {
   "cell_type": "code",
   "execution_count": 25,
   "metadata": {},
   "outputs": [
    {
     "data": {
      "application/vnd.jupyter.widget-view+json": {
       "model_id": "2ae0ad99b8854025be4b3659a8dd8f86",
       "version_major": 2,
       "version_minor": 0
      },
      "text/plain": [
       "interactive(children=(Dropdown(description='key', options=('Household Head Sex', 'Household Head Marital Statu…"
      ]
     },
     "metadata": {},
     "output_type": "display_data"
    },
    {
     "data": {
      "text/plain": [
       "<function regional_utils.stacked_bar(data, key)>"
      ]
     },
     "execution_count": 25,
     "metadata": {},
     "output_type": "execute_result"
    }
   ],
   "source": [
    "interact(stacked_bar, data=fixed(data), key=householdhead_data_discrete)"
   ]
  },
  {
   "cell_type": "code",
   "execution_count": 74,
   "metadata": {},
   "outputs": [
    {
     "name": "stdout",
     "output_type": "stream",
     "text": [
      "287\n"
     ]
    }
   ],
   "source": [
    "# data = pd.read_csv('Family Income and Expenditure.csv')\n",
    "# categories = {\n",
    "#     '.*teaching professionals.*|.*school supervisors.*|.*instructors/trainors.*': 'Education',\n",
    "#     '.*drivers.*|.*pilots.*|.*conductors.*|.*Transportation.*': 'Transportation',\n",
    "#     '.*farmers.*|.*agriculture.*|.*Farm.*': 'Agriculture',\n",
    "#     '.*managers.*|.*managing proprietors.*': 'Management',\n",
    "#     '.*mechanics.*|.*welders.*|.*carpenters.*|.*joiners.*|.*plumbers.*': 'Skilled Trades',\n",
    "#     '.*justices.*|.*legislative officials.*': 'Legal and Justice',\n",
    "#     '.*doctors.*|.*nurses.*|.*dentists.*|.*physiotherapists.*': 'Healthcare',\n",
    "#     '.*salespersons.*|.*clerks.*|.*waiters.*|.*waitresses.*|.*cleaners.*|.*Sales.*': 'Sales and Services',\n",
    "#     '.*artists.*|.*musicians.*|.*writers.*|.*photographers.*|.*actors.*': 'Arts and Media'\n",
    "# }\n",
    "\n",
    "# # Create a regex replacement dictionary\n",
    "\n",
    "# # Assuming 'data' is your DataFrame with the 'Household Head Occupation' column\n",
    "# data['Household Head Occupation'] = data['Household Head Occupation'].replace(categories, regex=True)\n",
    "\n",
    "\n",
    "# print(len(data['Household Head Occupation'].unique()))\n"
   ]
  }
 ],
 "metadata": {
  "kernelspec": {
   "display_name": "base",
   "language": "python",
   "name": "python3"
  },
  "language_info": {
   "codemirror_mode": {
    "name": "ipython",
    "version": 3
   },
   "file_extension": ".py",
   "mimetype": "text/x-python",
   "name": "python",
   "nbconvert_exporter": "python",
   "pygments_lexer": "ipython3",
   "version": "3.9.7"
  },
  "orig_nbformat": 4
 },
 "nbformat": 4,
 "nbformat_minor": 2
}
